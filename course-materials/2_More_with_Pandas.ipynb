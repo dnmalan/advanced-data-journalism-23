{
 "cells": [
  {
   "cell_type": "markdown",
   "metadata": {
    "id": "NybY-RBelXUB"
   },
   "source": [
    "# 2. More with Pandas\n",
    "\n"
   ]
  },
  {
   "cell_type": "markdown",
   "metadata": {
    "id": "qgWpP4e8l2ve"
   },
   "source": [
    "In this lesson, we will continue working with pandas oh our dataset of baseball player salaries, which includes columns for Name, Team, League, Position, and Salary. We will cover the following concepts and functions that are very useful in data analysis:\n",
    "\n",
    "- functions\n",
    "- ISIN\n",
    "- query\n",
    "- groupby (with count, sum, and average)\n",
    "- merging the dataset with a different dataset (joining)\n",
    "\n"
   ]
  },
  {
   "cell_type": "code",
   "execution_count": null,
   "metadata": {
    "id": "4oVAk-qqlVch"
   },
   "outputs": [],
   "source": [
    "import pandas as pd\n",
    "\n",
    "# Import data from a CSV file\n",
    "df = pd.read_csv('https://raw.githubusercontent.com/dnmalan/advanced-data-journalism-23/main/data/baseball_players.csv')\n",
    "\n",
    "# Display the first few rows of the DataFrame\n",
    "df.head()\n"
   ]
  },
  {
   "cell_type": "markdown",
   "metadata": {},
   "source": [
    "## 2.1 Functions\n",
    "\n",
    "You can run functions such as sum(), min(), max(), median() and mean() on a dataset or column."
   ]
  },
  {
   "cell_type": "code",
   "execution_count": null,
   "metadata": {},
   "outputs": [],
   "source": [
    "df['Salary'].count()"
   ]
  },
  {
   "cell_type": "code",
   "execution_count": null,
   "metadata": {},
   "outputs": [],
   "source": [
    "print(df['Salary'].max())\n",
    "print(df['Salary'].min())\n",
    "print(df['Salary'].median())\n",
    "print(df['Salary'].mean())"
   ]
  },
  {
   "cell_type": "markdown",
   "metadata": {
    "id": "DEZ7sUdWG3Kb"
   },
   "source": [
    "## 2.2 ISIN\n",
    "\n",
    "The isin function allows us to filter rows based on whether a specific value is present in a column. This allows us to write more powerful filters much more quickly than using the filter method we looked at in Lesson 1.3.\n",
    "\n",
    "As a reminder, here's what that method looks like:\n",
    "\n",
    "**df[df['Team'] == 'Kansas City Royals']**\n",
    "\n",
    "If you want to filter by multiple teams, you would use this syntax:\n",
    "\n",
    "**df[(condition1) | (condition2)]**\n",
    "\n",
    "Which looks like this:\n"
   ]
  },
  {
   "cell_type": "code",
   "execution_count": null,
   "metadata": {
    "id": "EGemar-HH22v"
   },
   "outputs": [],
   "source": [
    "   df[(df['Team'] == 'Kansas City Royals') \n",
    "      | (df['Team'] == 'New York Yankees')]"
   ]
  },
  {
   "cell_type": "markdown",
   "metadata": {
    "id": "RwOS769JKizX"
   },
   "source": [
    "Now let's use ISIN to write this in a much more efficient way."
   ]
  },
  {
   "cell_type": "code",
   "execution_count": null,
   "metadata": {
    "id": "aNYRfixSK2gq"
   },
   "outputs": [],
   "source": [
    " #filter for players on two teams using ISIN\n",
    "\n",
    " df[df['Team'].isin(['Kansas City Royals', 'New York Yankees'])]"
   ]
  },
  {
   "cell_type": "markdown",
   "metadata": {
    "id": "clIooEQ8Lp0M"
   },
   "source": [
    "To save the filtered players, create a new dataframe."
   ]
  },
  {
   "cell_type": "code",
   "execution_count": null,
   "metadata": {
    "id": "A4tjb20DKtqC"
   },
   "outputs": [],
   "source": [
    "# create a df of the selected players and save it into a new dataframe\n",
    "\n",
    "selected_players =  df[df['Team'].isin(['Kansas City Royals', 'New York Yankees'])]\n",
    "\n",
    "# view new dataframe\n",
    "selected_players.head()"
   ]
  },
  {
   "cell_type": "markdown",
   "metadata": {
    "id": "dNpY3YbDMEXQ"
   },
   "source": [
    "You can also create a list of the values you want to filter for. This is especially helpful when you have many different values to search for and is a generally cleaner way to write code."
   ]
  },
  {
   "cell_type": "code",
   "execution_count": null,
   "metadata": {
    "id": "hm7tstZBKnMH"
   },
   "outputs": [],
   "source": [
    "# create a list of selected teams\n",
    "selected_teams = ['New York Yankees', 'Boston Red Sox']\n",
    "\n",
    "# filter for selected teams and save into a new dataframe\n",
    "selected_players = df[df['Team'].isin(selected_teams)]\n",
    "\n",
    "# view new dataframe\n",
    "selected_players.head()"
   ]
  },
  {
   "cell_type": "markdown",
   "metadata": {
    "id": "vCSpaBf0WTXq"
   },
   "source": [
    "## 2.3 Group by\n",
    "\n",
    "The groupby function allows us to group data by one or more columns and then apply aggregation functions to the grouped data.\n",
    "\n",
    "First, let's group by the teams. Then, we'll use count, sum, and mean as examples.\n"
   ]
  },
  {
   "cell_type": "code",
   "execution_count": null,
   "metadata": {
    "id": "-0_r6hlKYSFX"
   },
   "outputs": [],
   "source": [
    "# Group players by team\n",
    "# this creates an object, not a dataframe, so the printout is weird but lets us know this is working\n",
    "\n",
    "df.groupby('Team')"
   ]
  },
  {
   "cell_type": "code",
   "execution_count": null,
   "metadata": {
    "id": "tp-d7o16YfIv"
   },
   "outputs": [],
   "source": [
    "# now add an aggregation. let's start with count\n",
    "# this syntax will group by team, then count how many values are in every column\n",
    "\n",
    "df.groupby('Team').count()"
   ]
  },
  {
   "cell_type": "markdown",
   "metadata": {
    "id": "br14TA5pZoUz"
   },
   "source": [
    "Using the agg() function allows us to aggregate by a certain column and also by multiple columns\n"
   ]
  },
  {
   "cell_type": "code",
   "execution_count": null,
   "metadata": {
    "id": "WHtQHfsNZs5E"
   },
   "outputs": [],
   "source": [
    "df.groupby('Team').agg({'Salary': 'count'})"
   ]
  },
  {
   "cell_type": "code",
   "execution_count": null,
   "metadata": {
    "id": "qxA4NHG9Wr81"
   },
   "outputs": [],
   "source": [
    "# Group players by team and calculate the count, sum, and average salary for each team, and store them into a new dataframe\n",
    "team_salary_stats = df.groupby('Team').agg({'Salary': \n",
    "                ['count', 'sum', 'mean']}).reset_index()\n",
    "\n",
    "# Create better column names for the new dataframe\n",
    "team_salary_stats.columns = ['Team', 'Player_Count', 'Total_Salary', 'Average_Salary']\n",
    " \n",
    "#print entire table\n",
    "print(team_salary_stats)\n"
   ]
  },
  {
   "cell_type": "code",
   "execution_count": null,
   "metadata": {
    "id": "LRMiWW4rZnoD"
   },
   "outputs": [],
   "source": []
  },
  {
   "cell_type": "markdown",
   "metadata": {
    "id": "KSXPkcanNO8c"
   },
   "source": [
    "## 2.4 Query\n",
    "\n",
    "The query function allows us to filter rows using a more expressive syntax. We can also use it to compare values.\n",
    "\n",
    "Let's use it to filter for numbers above a certain threshold. (This is similar to filtering we did in lesson 1.3)\n",
    "\n",
    "First, we're going to import a new dataset of Olympics medals by country."
   ]
  },
  {
   "cell_type": "code",
   "execution_count": null,
   "metadata": {
    "id": "APHnUUpTNyGb"
   },
   "outputs": [],
   "source": [
    "# Import data from a CSV file\n",
    "df_olympics = pd.read_csv('https://raw.githubusercontent.com/dnmalan/advanced-data-journalism-23/main/data/olympics_medals_country_wise.csv')\n",
    "\n",
    "# Display the first few rows of the DataFrame\n",
    "df_olympics.head()"
   ]
  },
  {
   "cell_type": "markdown",
   "metadata": {
    "id": "1dmM5LFCQDHe"
   },
   "source": [
    "Let's get to know the new dataset a little bit."
   ]
  },
  {
   "cell_type": "code",
   "execution_count": null,
   "metadata": {
    "id": "xzRl0kPLP7A8"
   },
   "outputs": [],
   "source": [
    "# how many rows and columns\n",
    "df_olympics.shape"
   ]
  },
  {
   "cell_type": "code",
   "execution_count": null,
   "metadata": {
    "id": "6uC1QG9MRd8Z"
   },
   "outputs": [],
   "source": [
    "# check data types\n",
    "\n",
    "df_olympics.dtypes"
   ]
  },
  {
   "cell_type": "code",
   "execution_count": null,
   "metadata": {
    "id": "2Qsz1cZ4QXkf"
   },
   "outputs": [],
   "source": [
    "# statistical overview of numerical columns\n",
    "\n",
    "df_olympics.describe()"
   ]
  },
  {
   "cell_type": "markdown",
   "metadata": {
    "id": "AGcpnDt-VAUS"
   },
   "source": [
    "Now let's find countries with more than 100 summer gold medals."
   ]
  },
  {
   "cell_type": "code",
   "execution_count": null,
   "metadata": {
    "id": "W_roHa7FVIWm"
   },
   "outputs": [],
   "source": [
    "# use query to find countries with more than 100 summer_gold\n",
    "\n",
    "high_summer_golds = df_olympics.query('summer_gold > 100')\n",
    "\n",
    "# preview results\n",
    "\n",
    "high_summer_golds.head()"
   ]
  },
  {
   "cell_type": "code",
   "execution_count": null,
   "metadata": {
    "id": "eJhjf_jqVgt1"
   },
   "outputs": [],
   "source": [
    "# how many countries have more than 100 summer gold medals?\n",
    "# this syntax of [0] with shape will show you only the \n",
    "# number of rows and not the number of columns\n",
    "\n",
    "high_summer_golds.shape[0]"
   ]
  },
  {
   "cell_type": "markdown",
   "metadata": {
    "id": "SqWrZB8FV6KP"
   },
   "source": [
    "Now the really cool part! We can use query to filter the dataset based on a comparison. For example, we can search for countries who have more winter gold medals than summer gold medals.\n",
    "\n"
   ]
  },
  {
   "cell_type": "code",
   "execution_count": null,
   "metadata": {
    "id": "VJi5O5zEZEwK"
   },
   "outputs": [],
   "source": [
    "df_olympics.query('winter_gold > summer_gold')"
   ]
  },
  {
   "cell_type": "code",
   "execution_count": null,
   "metadata": {},
   "outputs": [],
   "source": [
    "# on your own: find countries with more winter silver than summer silver\n",
    "\n",
    "\n"
   ]
  },
  {
   "cell_type": "markdown",
   "metadata": {},
   "source": [
    "Let's do a quick visualization to see who has the most medals overall (using the total_total column). "
   ]
  },
  {
   "cell_type": "code",
   "execution_count": null,
   "metadata": {},
   "outputs": [],
   "source": [
    "#import matplotlib so we can plot\n",
    "\n",
    "import matplotlib.pyplot as plt"
   ]
  },
  {
   "cell_type": "code",
   "execution_count": null,
   "metadata": {},
   "outputs": [],
   "source": [
    "# create a dataframe of the top 10 countries\n",
    "\n",
    "top_10_countries = df_olympics.sort_values(by='total_total ', ascending=False).head(10)\n"
   ]
  },
  {
   "cell_type": "code",
   "execution_count": null,
   "metadata": {},
   "outputs": [],
   "source": [
    "plt.barh(top_10_countries['countries '], top_10_countries['au '])\n"
   ]
  },
  {
   "cell_type": "code",
   "execution_count": null,
   "metadata": {},
   "outputs": [],
   "source": [
    "# add some formatting\n",
    "\n",
    "plt.figure(figsize=(12, 6)) #sizes the plot\n",
    "plt.barh(top_10_countries['countries '], top_10_countries['summer_gold'], color='gold')\n",
    "plt.xlabel('Summer Gold Medals') #label the x axis\n",
    "plt.ylabel('Countries ') #label the y axis\n",
    "plt.title('Top 10 Countries with the Most Summer Gold Olympic Medals') #chart title\n",
    "plt.gca().invert_yaxis()  # Invert the y-axis to show the highest total_total at the top\n",
    "plt.show()"
   ]
  },
  {
   "cell_type": "markdown",
   "metadata": {},
   "source": [
    "Now let's see if maybe the reason these countries have so much is because they have participated more."
   ]
  },
  {
   "cell_type": "code",
   "execution_count": null,
   "metadata": {},
   "outputs": [],
   "source": [
    "# build a scatterplot\n",
    "plt.scatter(df_olympics['total_participation'], df_olympics['total_total '], alpha=0.5, color='b')"
   ]
  },
  {
   "cell_type": "code",
   "execution_count": null,
   "metadata": {},
   "outputs": [],
   "source": [
    "#formatting the plot\n",
    "\n",
    "plt.figure(figsize=(10, 6))\n",
    "plt.scatter(df_olympics['total_participation'], df_olympics['total_total '], alpha=0.5, color='b')\n",
    "plt.xlabel('Combined Participations (Summer + Winter)')\n",
    "plt.ylabel('Total Medals')\n",
    "plt.title('Scatterplot of Total Medals vs. Combined Participations')\n",
    "plt.grid(True)\n",
    "plt.show()"
   ]
  },
  {
   "cell_type": "markdown",
   "metadata": {
    "id": "LIuUeAE2bgRP"
   },
   "source": [
    "## 2.5 Merging datasets\n",
    "\n",
    "The merge function in Pandas is a powerful and versatile tool for combining and joining two or more DataFrames based on common columns or indices. It is similar to the SQL JOIN operation and allows you to merge data from different sources into a single DataFrame.\n",
    "\n",
    "Here's the basic syntax of the merge function:\n",
    "\n",
    "**merged_df = df1.merge(df2, on='column')**\n",
    "\n",
    "Using the olympic medals dataset, let's say we have one dataset of all the medal counts, but with only the country code. Then we have another dataset showing only the country code and corresponding country."
   ]
  },
  {
   "cell_type": "code",
   "execution_count": null,
   "metadata": {
    "id": "emz1enI6cRF6"
   },
   "outputs": [],
   "source": [
    "# import two datasets and look at the first few rows\n",
    "\n",
    "# Import country medals from a CSV file\n",
    "# this will be our \"main\" dataset\n",
    "country_medals = pd.read_csv('https://raw.githubusercontent.com/dnmalan/advanced-data-journalism-23/main/data/country_medals.csv')\n",
    "\n",
    "country_medals.head()"
   ]
  },
  {
   "cell_type": "code",
   "execution_count": null,
   "metadata": {
    "id": "upe5TZ_vcRf8"
   },
   "outputs": [],
   "source": [
    "# import country codes from a CSV file\n",
    "# this will be our \"lookup\" dataset\n",
    "country_codes = pd.read_csv('https://raw.githubusercontent.com/dnmalan/advanced-data-journalism-23/main/data/country_codes.csv')\n",
    "\n",
    "country_codes.head()"
   ]
  },
  {
   "cell_type": "markdown",
   "metadata": {
    "id": "wlADia7Sd6eS"
   },
   "source": [
    "With our datasets imported, we can now merge them in one quick line of code. Each country code will match up, showing the complete rows from both datasets with the country name, code, and medal counts."
   ]
  },
  {
   "cell_type": "code",
   "execution_count": null,
   "metadata": {
    "id": "sFpRFlhgeGy5"
   },
   "outputs": [],
   "source": [
    "merged_data = country_medals.merge(country_codes, on='ioc_code ')\n",
    "\n",
    "merged_data.head()"
   ]
  },
  {
   "cell_type": "markdown",
   "metadata": {
    "id": "y2MOdLbGfz9v"
   },
   "source": [
    "### More on combining data\n",
    "\n",
    "This was a very basic merge (aka, join). Joins can really be much more complicated, depending on your data and goals. There are also many problems that can happen during a join, and also more functions that combine data in similar ways to merging!\n",
    "\n",
    "For more on joining using pandas, see this great explanation of using merge(), join(), and concatenate() on [RealPython.com](https://realpython.com/pandas-merge-join-and-concat/)."
   ]
  },
  {
   "cell_type": "code",
   "execution_count": null,
   "metadata": {},
   "outputs": [],
   "source": []
  }
 ],
 "metadata": {
  "colab": {
   "provenance": []
  },
  "kernelspec": {
   "display_name": "Python 3 (ipykernel)",
   "language": "python",
   "name": "python3"
  },
  "language_info": {
   "codemirror_mode": {
    "name": "ipython",
    "version": 3
   },
   "file_extension": ".py",
   "mimetype": "text/x-python",
   "name": "python",
   "nbconvert_exporter": "python",
   "pygments_lexer": "ipython3",
   "version": "3.9.1"
  }
 },
 "nbformat": 4,
 "nbformat_minor": 1
}
