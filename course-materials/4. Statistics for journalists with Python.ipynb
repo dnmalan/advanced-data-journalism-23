{
 "cells": [
  {
   "cell_type": "markdown",
   "id": "d7aa911b",
   "metadata": {},
   "source": [
    "# Statistics for journalists with Python\n",
    "\n",
    "Statistics is a fundamental branch of mathematics that deals with analyzing and drawing conclusions from data. It provides valuable tools and techniques for understanding and making sense of numerical information. In this lesson, we will explore various statistical concepts using Python, ranging from basic measures like mean, median, and mode to advanced topics like correlation and regression analysis."
   ]
  },
  {
   "cell_type": "markdown",
   "id": "51755709",
   "metadata": {},
   "source": [
    "## Percents and percent change\n",
    "\n",
    "Journalists often calculate change as part of their analysis. We're always looking at whether something is growing or shrinking, and by how much. The raw change and percent change help us quantify that and it's important to know how to calculate and understand both."
   ]
  },
  {
   "cell_type": "code",
   "execution_count": null,
   "id": "5f27400b",
   "metadata": {},
   "outputs": [],
   "source": [
    "import pandas as pd"
   ]
  },
  {
   "cell_type": "markdown",
   "id": "8608403e",
   "metadata": {},
   "source": [
    "### CO2 emissions by country\n",
    "\n",
    "This file compares CO2 emissions by country for two years: 2000 and 2021. The emissions are in megatons."
   ]
  },
  {
   "cell_type": "code",
   "execution_count": null,
   "id": "66c01b53",
   "metadata": {},
   "outputs": [],
   "source": [
    "#import and preview file \n",
    "\n",
    "co2 = pd.read_csv('https://raw.githubusercontent.com/dnmalan/advanced-data-journalism-23/main/data/co2_by_country.csv')\n",
    "\n",
    "co2.head()"
   ]
  },
  {
   "cell_type": "code",
   "execution_count": null,
   "id": "0d43393a",
   "metadata": {},
   "outputs": [],
   "source": [
    "# see who is the biggest emitter in 2000\n",
    "\n",
    "co2.sort_values(by='total_2000', ascending=False)"
   ]
  },
  {
   "cell_type": "code",
   "execution_count": null,
   "id": "067fcf47",
   "metadata": {},
   "outputs": [],
   "source": [
    "# and in 2021\n",
    "\n",
    "co2.sort_values(by='total_2021', ascending=False)"
   ]
  },
  {
   "cell_type": "markdown",
   "id": "e5b1e284",
   "metadata": {},
   "source": [
    "#### Raw change\n",
    "\n",
    "Calculating raw change is just a simple subraction. Always make sure to subtract in this order:\n",
    "\n",
    "**new - old**"
   ]
  },
  {
   "cell_type": "code",
   "execution_count": null,
   "id": "6fe6df60",
   "metadata": {},
   "outputs": [],
   "source": [
    "# calculate raw change, new-old\n",
    "\n",
    "co2['raw_change'] = co2['total_2021'] - co2['total_2000'] \n",
    "\n",
    "co2.head()"
   ]
  },
  {
   "cell_type": "code",
   "execution_count": null,
   "id": "3f0f3a90",
   "metadata": {},
   "outputs": [],
   "source": [
    "## sort by raw_change\n",
    "\n",
    "co2.sort_values(by='raw_change', ascending=False)"
   ]
  },
  {
   "cell_type": "markdown",
   "id": "8c200c85",
   "metadata": {},
   "source": [
    "#### Percent change\n",
    "\n",
    "Calculating percent change addes one more step to this. We will calculate the raw change, then divide by the old number. This tells us the change relative to the baseline (old) number and often is a better measure of how much something has changed.\n",
    "\n",
    "**(new - old)/old**"
   ]
  },
  {
   "cell_type": "code",
   "execution_count": null,
   "id": "76c3033c",
   "metadata": {},
   "outputs": [],
   "source": [
    "# calculate percent change\n",
    "\n",
    "co2['pct_change'] = (co2['total_2021'] - co2['total_2000']) / co2['total_2000']\n",
    "\n",
    "co2.head()\n"
   ]
  },
  {
   "cell_type": "code",
   "execution_count": null,
   "id": "5ae9c483",
   "metadata": {},
   "outputs": [],
   "source": [
    "# sort values by percent change \n",
    "\n",
    "co2.sort_values(by='pct_change', ascending=False)"
   ]
  },
  {
   "cell_type": "code",
   "execution_count": null,
   "id": "6e17d0ee",
   "metadata": {},
   "outputs": [],
   "source": [
    "# view china and US\n",
    "\n",
    "co2.loc[co2['country'].isin(['China', 'USA'])]\n"
   ]
  },
  {
   "cell_type": "markdown",
   "id": "7c9d2788",
   "metadata": {},
   "source": [
    "### Exercise: Sugar imports\n",
    "\n",
    "Import a dataset of sugar imports by country (in kilotons) and fill in the code below to find the countries with the highest changes."
   ]
  },
  {
   "cell_type": "code",
   "execution_count": null,
   "id": "2f52ae5a",
   "metadata": {},
   "outputs": [],
   "source": [
    "# import and preview the dataset\n",
    "\n",
    "sugar = pd.read_csv('https://raw.githubusercontent.com/dnmalan/advanced-data-journalism-23/main/data/sugar_import_df.csv')\n",
    "\n",
    "sugar.head()"
   ]
  },
  {
   "cell_type": "code",
   "execution_count": null,
   "id": "1ccf0de6",
   "metadata": {},
   "outputs": [],
   "source": [
    "# find the raw change in imports between the latest year (May 2023/24) and the earliest year (2018/19)\n",
    "\n",
    "sugar['raw_change'] = sugar['xxx'] - sugar['xxx']\n",
    "\n",
    "sugar.head()"
   ]
  },
  {
   "cell_type": "code",
   "execution_count": null,
   "id": "718742d4",
   "metadata": {},
   "outputs": [],
   "source": [
    "# find the percent change between the same years\n",
    "\n",
    "sugar['pct_change'] = (sugar['xxx'] - sugar['xxx']) / sugar['xxx']\n",
    "\n",
    "sugar.head()"
   ]
  },
  {
   "cell_type": "code",
   "execution_count": null,
   "id": "b10db5cb",
   "metadata": {},
   "outputs": [],
   "source": [
    "# which country has the highest raw change?\n",
    "\n",
    "sugar.sort_values(by='xxx', ascending=xxx)"
   ]
  },
  {
   "cell_type": "code",
   "execution_count": null,
   "id": "449b3043",
   "metadata": {},
   "outputs": [],
   "source": [
    "# which country has the higest percent change?\n",
    "\n",
    "sugar.sort_values(by='xxx', ascending=xxx)"
   ]
  },
  {
   "cell_type": "markdown",
   "id": "a442b49e",
   "metadata": {},
   "source": [
    "## Rates\n",
    "\n",
    "Calculating these percentage changes is interesting and definitely part of the story. However, is comparing the total emissions for each country fair? Countries have very different populations, so it makes sense that bigger countries have higher emissions, and vice versa. \n",
    "\n",
    "To make a level playing field, journalists often use what's called rates. In this case, we want to use a \"per capita\" rate that shows the total emissions per population.\n",
    "\n",
    "To calculate per capita rate, we need to take the total emissions and divide it by the population. First, we need the population! We can add a new dataset via merge. This matches data from two different datasets on a common value. In this case, the country code."
   ]
  },
  {
   "cell_type": "code",
   "execution_count": null,
   "id": "fcd154fe",
   "metadata": {},
   "outputs": [],
   "source": [
    "#import new dataset with country code and population\n",
    "\n",
    "pop = pd.read_csv('https://raw.githubusercontent.com/dnmalan/advanced-data-journalism-23/main/data/country_pop_2021.csv')\n",
    "\n",
    "pop.head()"
   ]
  },
  {
   "cell_type": "code",
   "execution_count": null,
   "id": "4815c2f1",
   "metadata": {},
   "outputs": [],
   "source": [
    "# merge, or join, the two datasets on the country code column\n",
    "\n",
    "merged_co2 = co2.merge(pop, on='country_code')\n",
    "\n",
    "merged_co2.head()"
   ]
  },
  {
   "cell_type": "code",
   "execution_count": null,
   "id": "3d6b003d",
   "metadata": {},
   "outputs": [],
   "source": [
    "# check how many results\n",
    "# rows without a match have been dropped \n",
    "# (in this case, the regions like world or asia)\n",
    "\n",
    "merged_co2.shape"
   ]
  },
  {
   "cell_type": "markdown",
   "id": "66ee301b",
   "metadata": {},
   "source": [
    "Now we can calculate the emissions rate, or total emissions divided by the population, for each country."
   ]
  },
  {
   "cell_type": "code",
   "execution_count": null,
   "id": "76c22c8e",
   "metadata": {},
   "outputs": [],
   "source": [
    "# calculate emissions rate per population\n",
    "\n",
    "merged_co2['emissions_rate_2021'] = merged_co2['total_2021']/merged_co2['pop_2021']\n",
    "\n",
    "merged_co2.head()"
   ]
  },
  {
   "cell_type": "markdown",
   "id": "057c1b4f",
   "metadata": {},
   "source": [
    "But that is a very tiny number that includes scientific notation. So we multiply it by a large number (for countries, usually 100,000) to make it easier to understand.\n",
    "\n",
    "So our final formula for a per capita rate is:\n",
    "\n",
    "**(amount/population) * 100,000**"
   ]
  },
  {
   "cell_type": "code",
   "execution_count": null,
   "id": "ed5d15ed",
   "metadata": {},
   "outputs": [],
   "source": [
    "#multiply by 100,000 for the final per capita rate\n",
    "\n",
    "merged_co2['emissions_rate_2021'] = merged_co2['total_2021']/merged_co2['pop_2021']*100000\n",
    "\n",
    "merged_co2.head()"
   ]
  },
  {
   "cell_type": "code",
   "execution_count": null,
   "id": "19b8e1d6",
   "metadata": {},
   "outputs": [],
   "source": [
    "# sort by emissions rate to find the largest emitter\n",
    "\n",
    "merged_co2.sort_values(by='emissions_rate_2021', ascending=False)"
   ]
  },
  {
   "cell_type": "code",
   "execution_count": null,
   "id": "2d9feed2",
   "metadata": {},
   "outputs": [],
   "source": [
    "# look at china and US\n",
    "\n",
    "merged_co2.loc[merged_co2['country_x'].isin(['China', 'USA'])]\n"
   ]
  },
  {
   "cell_type": "markdown",
   "id": "87f1fadd",
   "metadata": {},
   "source": [
    "### Exercise: Covid rates by world region\n",
    "\n",
    "In this small dataset of covid cases and deaths by world region, fill in the XXXs in the code below to create two new columns for per capita rates."
   ]
  },
  {
   "cell_type": "code",
   "execution_count": null,
   "id": "d42648cb",
   "metadata": {},
   "outputs": [],
   "source": [
    "# import dataset\n",
    "\n",
    "covid = pd.read_csv('https://raw.githubusercontent.com/dnmalan/advanced-data-journalism-23/main/data/cases_deaths_by_region.csv')"
   ]
  },
  {
   "cell_type": "code",
   "execution_count": null,
   "id": "8f477bfd",
   "metadata": {},
   "outputs": [],
   "source": [
    "# view dataset\n",
    "\n",
    "covid.xxx()"
   ]
  },
  {
   "cell_type": "code",
   "execution_count": null,
   "id": "43313833",
   "metadata": {},
   "outputs": [],
   "source": [
    "# calculate case rate\n",
    "\n",
    "covid['cases_per_capita'] = covid['XXX']/covid['XXX']*xxx\n",
    "\n",
    "covid.head()"
   ]
  },
  {
   "cell_type": "code",
   "execution_count": null,
   "id": "c983b24e",
   "metadata": {},
   "outputs": [],
   "source": [
    "# calculate death rate\n",
    "\n",
    "covid['deaths_per_capita'] = covid['XXX']/covid['XXX']*xxx\n",
    "\n",
    "covid.head()"
   ]
  },
  {
   "cell_type": "code",
   "execution_count": null,
   "id": "0e3f895c",
   "metadata": {},
   "outputs": [],
   "source": [
    "# Which region has the higest case rate?\n",
    "\n",
    "covid.sort_values(by='xxx', ascending=xxx)"
   ]
  },
  {
   "cell_type": "code",
   "execution_count": null,
   "id": "5943a8a4",
   "metadata": {},
   "outputs": [],
   "source": [
    "# Which region has the highest death rate?\n",
    "\n",
    "covid.sort_values(by='xxx', ascending=xxx)"
   ]
  },
  {
   "cell_type": "markdown",
   "id": "49b843d2",
   "metadata": {},
   "source": [
    "## Measures of central tendency\n",
    "\n",
    "The measures of central tendancy, especially the mean and median, are very important to journalists. It's important to know how they are calculated, what they mean, and when to use each one.\n",
    "\n",
    "Note: There are many ways to calculate these in Python using various libraries, or even creating your own function! We'll use pandas here with a dummy dataset to start."
   ]
  },
  {
   "cell_type": "markdown",
   "id": "7d80d64f",
   "metadata": {},
   "source": [
    "### Mean (Average)\n",
    "\n",
    "The mean, or average, is the sum of all values divided by the number of values. In Python, you can calculate the mean using the mean() function in either numpy or pandas (or some other libraries).\n",
    "\n"
   ]
  },
  {
   "cell_type": "code",
   "execution_count": null,
   "id": "da1bc1fe",
   "metadata": {},
   "outputs": [],
   "source": [
    "\n",
    "data = [12, 5, 8, 18, 25, 10]\n",
    "df = pd.DataFrame(data)\n",
    "\n",
    "mean = df.mean()\n",
    "print(f\"Mean (Average): {mean}\")"
   ]
  },
  {
   "cell_type": "markdown",
   "id": "d1ff80a9",
   "metadata": {},
   "source": [
    "### Median\n",
    "\n",
    "The median is the middle value in a dataset when it's sorted. In Python, you can find the median using the median() function."
   ]
  },
  {
   "cell_type": "code",
   "execution_count": null,
   "id": "9bd41037",
   "metadata": {},
   "outputs": [],
   "source": [
    "median = df.median()\n",
    "print(f\"Median: {median}\")"
   ]
  },
  {
   "cell_type": "markdown",
   "id": "0058d5ae",
   "metadata": {},
   "source": [
    "### Mode\n",
    "\n",
    "The mode represents the most frequently occurring value in a dataset (not used often in journalism, but you might come across it). In Python, you can find the mode in pandas but I like using the mode() function from the SciPy library because it also tells you how many times that number occurs."
   ]
  },
  {
   "cell_type": "code",
   "execution_count": null,
   "id": "19ce46cf",
   "metadata": {},
   "outputs": [],
   "source": [
    "from scipy import stats\n",
    "\n",
    "mode_data = stats.mode(data)\n",
    "print(mode_data)"
   ]
  },
  {
   "cell_type": "code",
   "execution_count": null,
   "id": "3e66e3d5",
   "metadata": {},
   "outputs": [],
   "source": [
    "# new dataset that includes an actual mode\n",
    "\n",
    "data2 = [12, 5, 8, 18, 25, 10, 5]\n",
    "\n",
    "mode_data2 = stats.mode(data2)\n",
    "print(mode_data2)"
   ]
  },
  {
   "cell_type": "markdown",
   "id": "78cf6f0e",
   "metadata": {},
   "source": [
    "### Which measure should I use?\n",
    "\n",
    "So far our mean and median were very similar. That means our data didn't have many outliers. But let's take a look at data that does have a major outlier."
   ]
  },
  {
   "cell_type": "code",
   "execution_count": null,
   "id": "ce40e6a2",
   "metadata": {},
   "outputs": [],
   "source": [
    "# new dataset with one number changed\n",
    "\n",
    "data = [12, 5, 8, 18, 25, 100]\n",
    "df = pd.DataFrame(data)\n",
    "\n",
    "mean = df.mean()\n",
    "print(f\"Mean (Average): {mean}\")\n",
    "\n",
    "median = df.median()\n",
    "print(f\"Median: {median}\")"
   ]
  },
  {
   "cell_type": "markdown",
   "id": "4d8ddc31",
   "metadata": {},
   "source": []
  },
  {
   "cell_type": "markdown",
   "id": "419f6c10",
   "metadata": {},
   "source": [
    "## Correlation\n",
    "\n",
    "To look at correlation, we'll use the [World Happiness Report 2023](https://worldhappiness.report/), which is a report that ranks countries' \"happiness\" by factors like national income, health, etc. "
   ]
  },
  {
   "cell_type": "code",
   "execution_count": null,
   "id": "2a88482d",
   "metadata": {},
   "outputs": [],
   "source": [
    "# import and preview data\n",
    "\n",
    "happy = pd.read_csv('https://raw.githubusercontent.com/dnmalan/advanced-data-journalism-23/main/data/happiness_survey_2023.csv')\n",
    "\n",
    "happy.head()"
   ]
  },
  {
   "cell_type": "code",
   "execution_count": null,
   "id": "8b1f0f97",
   "metadata": {},
   "outputs": [],
   "source": [
    "#drop columns we won't use\n",
    "\n",
    "cols = ['Standard error of ladder score', 'upperwhisker', 'lowerwhisker']\n",
    "\n",
    "happy = happy.drop(cols, axis='columns')"
   ]
  },
  {
   "cell_type": "markdown",
   "id": "a261b3ad",
   "metadata": {},
   "source": [
    "#### Using scatterplots to look at correlation\n",
    "\n",
    "Scatterplots are the best way to visualize the relationship between two variables. For example, let's look at the relationshiop between income (GDP per capita) vs happiness (ladder score)."
   ]
  },
  {
   "cell_type": "code",
   "execution_count": null,
   "id": "64b227ec",
   "metadata": {},
   "outputs": [],
   "source": [
    "# import library\n",
    "\n",
    "import matplotlib.pyplot as plt"
   ]
  },
  {
   "cell_type": "code",
   "execution_count": null,
   "id": "2d81b496",
   "metadata": {},
   "outputs": [],
   "source": [
    "# scatterplot of income vs happiness\n",
    "\n",
    "plt.scatter(happy[\"Logged GDP per capita\"], happy[\"Ladder score\"])\n",
    "plt.xlabel(\"Logged GDP per capita\")\n",
    "plt.ylabel(\"Ladder score\")\n",
    "plt.title(\"Ladder Score vs. Logged GDP per Capita\")\n",
    "plt.grid(True)\n",
    "plt.show()"
   ]
  },
  {
   "cell_type": "code",
   "execution_count": null,
   "id": "417bca4a",
   "metadata": {},
   "outputs": [],
   "source": [
    "# scatterplot of corruption vs happiness\n",
    "\n",
    "plt.scatter(happy[\"Perceptions of corruption\"], happy[\"Ladder score\"])\n",
    "plt.xlabel(\"Perceptions of corruption\")\n",
    "plt.ylabel(\"Ladder score\")\n",
    "plt.title(\"Ladder Score vs. Perceptions of Corruption\")\n",
    "plt.grid(True)\n",
    "plt.show()"
   ]
  },
  {
   "cell_type": "markdown",
   "id": "6ae45d14",
   "metadata": {},
   "source": [
    "### Exercise: Create a scatterplot of life expectancy vs happiness\n",
    "\n",
    "Copy and paste one of the above scatterplots and modify the code to look at life expectancy vs happiness."
   ]
  },
  {
   "cell_type": "code",
   "execution_count": null,
   "id": "3ae098f1",
   "metadata": {},
   "outputs": [],
   "source": [
    "# scatterplot of life expectancy vs happiness\n",
    "# your code here\n",
    "\n",
    "\n"
   ]
  },
  {
   "cell_type": "markdown",
   "id": "7b45ac8c",
   "metadata": {},
   "source": [
    "## Correlation matrix\n",
    "\n",
    "To get an overview of how each of these factors is correlated with the others, we can use a handy function in pandas to create a correlation matrix. This is a chart showing the correlation coefficient for each pair of variables.\n",
    "\n"
   ]
  },
  {
   "cell_type": "code",
   "execution_count": null,
   "id": "e390b99c",
   "metadata": {},
   "outputs": [],
   "source": [
    "# create the matrix\n",
    "\n",
    "correlation_matrix = happy.corr()\n"
   ]
  },
  {
   "cell_type": "code",
   "execution_count": null,
   "id": "1bdd44f9",
   "metadata": {},
   "outputs": [],
   "source": [
    "# visualize the matrix\n",
    "\n",
    "import seaborn as sns\n",
    "\n",
    "plt.figure(figsize=(10, 8))\n",
    "sns.heatmap(correlation_matrix, annot=True, cmap=\"coolwarm\", fmt=\".2f\", square=True)\n",
    "plt.title(\"Correlation Matrix\")\n",
    "plt.show()"
   ]
  },
  {
   "cell_type": "markdown",
   "id": "628a1b4e",
   "metadata": {},
   "source": [
    "### Exercise: Interpreting correlation matrix\n",
    "\n",
    "Answer the following questions using the correlation matrix."
   ]
  },
  {
   "cell_type": "markdown",
   "id": "2a52c38e",
   "metadata": {},
   "source": [
    "1. What factor is most positively correlated with happiness (ladder score)?\n",
    "\n",
    "Answer:\n",
    "\n",
    "2. What factor is most negatively correlated with happiness?\n",
    "\n",
    "Answer:\n",
    "\n",
    "3. Name another pair of factors (not including happiness) that are highly POSITIVELY correlated.\n",
    "\n",
    "Answer:\n",
    "\n",
    "4. Name another pair of factors (not including happiness) that are highly NEGATIVELY correlated.\n",
    "\n",
    "Answer:\n",
    "\n",
    "5. Healthy life expectancy and higher income are highly positively correlated. Can we say that one causes the other? Why or why not?\n",
    "\n",
    "Answer:\n",
    "\n",
    "\n"
   ]
  },
  {
   "cell_type": "code",
   "execution_count": null,
   "id": "47100d0e",
   "metadata": {},
   "outputs": [],
   "source": []
  }
 ],
 "metadata": {
  "kernelspec": {
   "display_name": "Python 3 (ipykernel)",
   "language": "python",
   "name": "python3"
  },
  "language_info": {
   "codemirror_mode": {
    "name": "ipython",
    "version": 3
   },
   "file_extension": ".py",
   "mimetype": "text/x-python",
   "name": "python",
   "nbconvert_exporter": "python",
   "pygments_lexer": "ipython3",
   "version": "3.9.1"
  }
 },
 "nbformat": 4,
 "nbformat_minor": 5
}
