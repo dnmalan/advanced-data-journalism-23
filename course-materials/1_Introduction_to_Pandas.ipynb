{
  "nbformat": 4,
  "nbformat_minor": 0,
  "metadata": {
    "colab": {
      "provenance": [],
      "authorship_tag": "ABX9TyMoSUfgDCbn7g/YM3dnPtyJ",
      "include_colab_link": true
    },
    "kernelspec": {
      "name": "python3",
      "display_name": "Python 3"
    },
    "language_info": {
      "name": "python"
    }
  },
  "cells": [
    {
      "cell_type": "markdown",
      "metadata": {
        "id": "view-in-github",
        "colab_type": "text"
      },
      "source": [
        "<a href=\"https://colab.research.google.com/github/dnmalan/advanced-data-journalism-23/blob/main/1_Introduction_to_Pandas.ipynb\" target=\"_parent\"><img src=\"https://colab.research.google.com/assets/colab-badge.svg\" alt=\"Open In Colab\"/></a>"
      ]
    },
    {
      "cell_type": "markdown",
      "source": [
        "# 1: Introduction to Pandas"
      ],
      "metadata": {
        "id": "C8bW--_k05Yh"
      }
    },
    {
      "cell_type": "markdown",
      "source": [
        "In this lesson, we will explore how to manipulate and analyze data using Pandas. Pandas excels in data cleaning, preparation, exploration, and transformation, making it an indispensable library for data professionals.\n",
        "\n",
        "We'll use a dataset of baseball player salaries, which includes columns for Name, Team, League, Position, and Salary. You will learn how to perform essential operations on DataFrames, such as importing data, displaying data, sorting, filtering, running functions, and using group by.\n",
        "\n",
        "### Helpful links\n",
        "\n",
        "- [10 minutes to Pandas](https://pandas.pydata.org/docs/user_guide/10min.html)\n",
        "- [Pandas tutorials, quizzes and exercises on W3 schools](https://www.w3schools.com/python/pandas/default.asp)"
      ],
      "metadata": {
        "id": "5StBXrTC1Qb9"
      }
    },
    {
      "cell_type": "markdown",
      "source": [
        "##1.1 Importing data from a CSV and creating a dataframe\n",
        "\n",
        "First we need to import our dataset. You can import from various places, including your computer, cloud storage, or github (via a url). We will import a csv file that is stored in github at this url:\n",
        "\n",
        "https://raw.githubusercontent.com/dnmalan/advanced-data-journalism-23/main/data/baseball_players.csv\n",
        "\n",
        "Pandas uses objects called **dataframes**,  or a two-dimensional tabular data structure that organizes data into rows and columns.\n"
      ],
      "metadata": {
        "id": "MU9oFz5b1X6w"
      }
    },
    {
      "cell_type": "code",
      "execution_count": null,
      "metadata": {
        "id": "mrD-SHuU01iL"
      },
      "outputs": [],
      "source": [
        "# Import the libraries needed into your notebook\n",
        "import pandas as pd\n"
      ]
    },
    {
      "cell_type": "code",
      "source": [
        "# Create a dataframe called \"df\", and import a csv file into that dataframe\n",
        "df = pd.read_csv('https://raw.githubusercontent.com/dnmalan/advanced-data-journalism-23/main/data/baseball_players.csv')\n",
        "\n",
        "# Display the first few rows of the DataFrame\n",
        "df.head()"
      ],
      "metadata": {
        "id": "-jWSA9t_NNIO"
      },
      "execution_count": null,
      "outputs": []
    },
    {
      "cell_type": "markdown",
      "source": [
        "Pandas generally follows this format to run functions:\n",
        "\n",
        "- **dataframe.function()**\n",
        "\n",
        "This is what's called a Python **method**, or a function that is associated with an object (the dataframe) and can perform actions on it."
      ],
      "metadata": {
        "id": "WCb0Vxg_5dT9"
      }
    },
    {
      "cell_type": "markdown",
      "source": [
        "##1.2 Exploring the dataset\n",
        "Before doing any analysis, we'll need to explore and get to know the dataset. Let's inspect the first and last few rows, as well as get some initial statistics about our dataset."
      ],
      "metadata": {
        "id": "Wtq_VG4t15fU"
      }
    },
    {
      "cell_type": "code",
      "source": [
        "# Display the first 5 rows\n",
        "df.head()"
      ],
      "metadata": {
        "id": "BlqvGv005JAl"
      },
      "execution_count": null,
      "outputs": []
    },
    {
      "cell_type": "code",
      "source": [
        "# Display the last 5 rows\n",
        "df.tail()"
      ],
      "metadata": {
        "id": "7aD7p5SYNQYb"
      },
      "execution_count": null,
      "outputs": []
    },
    {
      "cell_type": "markdown",
      "source": [
        "\n",
        "You can also look at any number of rows by adding a number within the parentheses."
      ],
      "metadata": {
        "id": "SP1f-Mta7krN"
      }
    },
    {
      "cell_type": "code",
      "source": [
        "#display first 10 rows\n",
        "df.head(10)"
      ],
      "metadata": {
        "id": "XGUhwm8D7gRx"
      },
      "execution_count": null,
      "outputs": []
    },
    {
      "cell_type": "markdown",
      "source": [
        "If you want to see just one column, use this syntax:\n",
        "\n",
        "- **df['column']**"
      ],
      "metadata": {
        "id": "Ub3cInaBIitR"
      }
    },
    {
      "cell_type": "code",
      "source": [
        "# Display only the player name column\n",
        "df['Name']"
      ],
      "metadata": {
        "id": "W6lZ7OVBNVOa"
      },
      "execution_count": null,
      "outputs": []
    },
    {
      "cell_type": "markdown",
      "source": [
        "You can also print the entire dataset to see the beginning and end."
      ],
      "metadata": {
        "id": "Nm-v4asE71Yj"
      }
    },
    {
      "cell_type": "code",
      "source": [
        "#print out the entire dataframe\n",
        "print(df)"
      ],
      "metadata": {
        "id": "SvhxvmBy70gl"
      },
      "execution_count": null,
      "outputs": []
    },
    {
      "cell_type": "markdown",
      "source": [
        "You can also get some basic summaries very quickly with the shape and describe functions."
      ],
      "metadata": {
        "id": "g322AhKK5Lo1"
      }
    },
    {
      "cell_type": "code",
      "source": [
        "# Find how many rows and columns in the dataset\n",
        "df.shape"
      ],
      "metadata": {
        "id": "zm7_hyNb1XfI"
      },
      "execution_count": null,
      "outputs": []
    },
    {
      "cell_type": "code",
      "source": [
        "# Summary statistics for numeric columns\n",
        "df.describe()"
      ],
      "metadata": {
        "id": "QA7E4V1aIcaA"
      },
      "execution_count": null,
      "outputs": []
    },
    {
      "cell_type": "code",
      "source": [
        "#add this formatting snippet to turn off scientific notation\n",
        "\n",
        "df.describe().apply(lambda s: s.apply('{0:.2f}'.format))"
      ],
      "metadata": {
        "id": "t2G7xpcwOU6D"
      },
      "execution_count": null,
      "outputs": []
    },
    {
      "cell_type": "markdown",
      "source": [
        "##1.3 Analyzing the dataset\n",
        "\n",
        "Now that we've got a feel for what's in the datsaet, let's do some analysis, including sorting, filtering and functions.\n",
        "\n",
        "### Sorting\n",
        "\n",
        "Let's find who makes the highest salary (and lowest salary) by sorting this dataset. We will use the **sort_values** method and incorporating the parameters **by** (to tell Pandas which column to sort by) and **ascending** (to tell Pandas what order to sort by)."
      ],
      "metadata": {
        "id": "HGOAlSlZ6qHT"
      }
    },
    {
      "cell_type": "code",
      "source": [
        "#sort by salaries in descending order (largest salary at the top)\n",
        "df.sort_values(by='Salary', ascending=False)\n"
      ],
      "metadata": {
        "id": "IIQoZhpX94Y9"
      },
      "execution_count": null,
      "outputs": []
    },
    {
      "cell_type": "code",
      "source": [
        "#sort by salaries in ascending order (smallest salary at the top)\n",
        "df.sort_values(by='Salary', ascending=True)"
      ],
      "metadata": {
        "id": "CJxy9Lw5-o73"
      },
      "execution_count": null,
      "outputs": []
    },
    {
      "cell_type": "markdown",
      "source": [
        "###Filtering\n",
        "\n",
        "Filtering is the way to find a subset of the dataframe that matches a specific criteria or set of criteria. Think of it as searching your data, and the filter will return rows that match. You can search within text or numerical columns, and you can also search within just one or in multiple columns at once.\n",
        "\n",
        "To filter in Pandas, you'll need several pieces:\n",
        "\n",
        "- Column: The column you want to search in.\n",
        "- Comparison operator: equal to (==), not equal to (!=), greater than (>), less than (<), greater than or equal to (>=), and less than or equal to (<=)\n",
        "- Criteria: The information you want to search by.\n",
        "\n",
        "The filter generally follows this pattern:\n",
        "\n",
        "- **df[df['column'] == 'value']**"
      ],
      "metadata": {
        "id": "38yHkedF-36m"
      }
    },
    {
      "cell_type": "markdown",
      "source": [
        "####Filtering by numbers\n",
        "\n",
        "Do not put quotes around the numbers you're filtering by."
      ],
      "metadata": {
        "id": "3IP8uHqsBYpR"
      }
    },
    {
      "cell_type": "code",
      "source": [
        "#Find players who make the minimum wage\n",
        "\n",
        "df[df['Salary'] == 555000]"
      ],
      "metadata": {
        "id": "mqlHnG25BRmg"
      },
      "execution_count": null,
      "outputs": []
    },
    {
      "cell_type": "code",
      "source": [
        "#Find players who make more than $10 million\n",
        "df[df['Salary'] > 10000000]"
      ],
      "metadata": {
        "id": "168VLqDiCO00"
      },
      "execution_count": null,
      "outputs": []
    },
    {
      "cell_type": "markdown",
      "source": [
        "####Filtering by text\n",
        "\n",
        "Put quotes around the text value you're filtering by."
      ],
      "metadata": {
        "id": "WLSUttEJBdeD"
      }
    },
    {
      "cell_type": "code",
      "source": [
        "#find all the Kansas City Royals players\n",
        "df[df['Team'] == 'Kansas City Royals']\n"
      ],
      "metadata": {
        "id": "u7VCrL2k_q2A"
      },
      "execution_count": null,
      "outputs": []
    },
    {
      "cell_type": "markdown",
      "source": [
        "####Filtering by multiple columns\n",
        "\n",
        "Now let's put these together and search for anyone who makes the minimum wage on the Kansas City Royals.\n",
        "\n",
        "To filter by multiple columns, we need to add a logical operator (AND, OR, or NOT) in between the criteria.\n",
        "\n",
        "- AND: &\n",
        "- OR: |\n",
        "- NOT: ~\n"
      ],
      "metadata": {
        "id": "hVhDyQjbBg-o"
      }
    },
    {
      "cell_type": "code",
      "source": [
        "#Filter by Kansas City Royals and salary of more than 1 million\n",
        "\n",
        "df[(df['Salary'] > 1000000) & (df['Team'] == 'Kansas City Royals')]"
      ],
      "metadata": {
        "id": "9fyuYL_fD7Lp"
      },
      "execution_count": null,
      "outputs": []
    },
    {
      "cell_type": "markdown",
      "source": [
        "####Creating a new dataframe from results\n",
        "\n",
        "Often, we'll want to save the results of a function into a new dataframe so we can do some more analysis on it. To do this, simply create a new dataframe name and assign it to the function."
      ],
      "metadata": {
        "id": "F8dmFbQFP3AN"
      }
    },
    {
      "cell_type": "code",
      "source": [
        "#new dataframe called \"royals\" and assign it to the filtered original dataframe\n",
        "royals = df[df['Team'] == 'Kansas City Royals']\n"
      ],
      "metadata": {
        "id": "B_h26VUjP2jm"
      },
      "execution_count": null,
      "outputs": []
    },
    {
      "cell_type": "code",
      "source": [
        "royals.head()"
      ],
      "metadata": {
        "id": "lvSXix_uQKGI"
      },
      "execution_count": null,
      "outputs": []
    },
    {
      "cell_type": "code",
      "source": [
        "royals.shape"
      ],
      "metadata": {
        "id": "aCb1PlytQRpe"
      },
      "execution_count": null,
      "outputs": []
    },
    {
      "cell_type": "markdown",
      "source": [
        "####On your own:\n",
        "\n",
        "Find all of the players who make more than $20 million."
      ],
      "metadata": {
        "id": "EloX9Vw4JsZC"
      }
    },
    {
      "cell_type": "code",
      "source": [
        "#Filter by salary of more than 20000000\n",
        "\n"
      ],
      "metadata": {
        "id": "rViBYYHbKEXs"
      },
      "execution_count": null,
      "outputs": []
    }
  ]
}
