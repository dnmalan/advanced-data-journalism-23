{
 "cells": [
  {
   "cell_type": "markdown",
   "id": "5d391dbb",
   "metadata": {},
   "source": [
    "# 5. Visualization with matplotlib and plotly\n",
    "\n",
    "Starting with [matplotlib](https://matplotlib.org/stable/plot_types/index.html), we'll take a look at some basic charts, then start adding more formatting and interactivity with [plotly](https://plotly.com/python/) and statistical plots with [seaborn](https://seaborn.pydata.org/examples/index.html)"
   ]
  },
  {
   "cell_type": "code",
   "execution_count": null,
   "id": "36feb668",
   "metadata": {},
   "outputs": [],
   "source": [
    "# import libraries for notebook\n",
    "\n",
    "import numpy as np\n",
    "import pandas as pd\n",
    "import matplotlib.pyplot as plt\n",
    "import seaborn as sns\n",
    "import plotly.express as px\n"
   ]
  },
  {
   "cell_type": "markdown",
   "id": "bb746706",
   "metadata": {},
   "source": [
    "## Basic charts & formatting\n",
    "\n",
    "Let's play around with some basic charts first, before we work with a dataset.\n",
    "\n",
    "### Bar chart - showing comparison"
   ]
  },
  {
   "cell_type": "code",
   "execution_count": null,
   "id": "a7870d1b",
   "metadata": {},
   "outputs": [],
   "source": [
    "# bar chart - showing comparison\n",
    "\n",
    "x = np.arange(1, 6)\n",
    "y = np.array([10, 25, 17, 20, 15])\n",
    "\n",
    "plt.bar(x, y)"
   ]
  },
  {
   "cell_type": "code",
   "execution_count": null,
   "id": "83782967",
   "metadata": {},
   "outputs": [],
   "source": [
    "# turn it on its side with barh\n",
    "\n",
    "x = np.arange(1, 6)\n",
    "y = np.array([10, 25, 17, 20, 15])\n",
    "\n",
    "plt.barh(x, y)"
   ]
  },
  {
   "cell_type": "code",
   "execution_count": null,
   "id": "03efe7d6",
   "metadata": {},
   "outputs": [],
   "source": [
    "# add some formatting - change color\n",
    "\n",
    "x = np.arange(1, 6)\n",
    "y = np.array([10, 25, 17, 20, 15])\n",
    "\n",
    "plt.bar(x, y, color = 'skyblue')\n"
   ]
  },
  {
   "cell_type": "code",
   "execution_count": null,
   "id": "61bae1c1",
   "metadata": {},
   "outputs": [],
   "source": [
    "# add axis labels and title\n",
    "\n",
    "x = np.arange(1, 6)\n",
    "y = np.array([10, 25, 17, 20, 15])\n",
    "\n",
    "plt.bar(x, y, color = 'skyblue')\n",
    "plt.xlabel('Categories')\n",
    "plt.ylabel('Values')\n",
    "plt.title('Bar Chart')\n",
    "plt.show()"
   ]
  },
  {
   "cell_type": "code",
   "execution_count": null,
   "id": "3bf6bd8b",
   "metadata": {},
   "outputs": [],
   "source": [
    "# now add data labels to the bars\n",
    "\n",
    "x = np.arange(1, 6)\n",
    "y = np.array([10, 25, 17, 20, 15])\n",
    "\n",
    "# Create a bar chart\n",
    "plt.bar(x, y, color='skyblue')\n",
    "plt.xlabel('Categories')\n",
    "plt.ylabel('Values')\n",
    "plt.title('Bar Chart')\n",
    "\n",
    "# Add data labels to the bars\n",
    "for i, value in enumerate(y):\n",
    "    plt.text(x[i], value + 1, str(value), ha='center', va='bottom', fontsize=12)\n",
    "\n",
    "plt.show()"
   ]
  },
  {
   "cell_type": "code",
   "execution_count": null,
   "id": "f49fbfeb-bf7e-4166-a3df-0a991f4f9e57",
   "metadata": {},
   "outputs": [],
   "source": [
    "# Your turn - make a bar chart from this provided data, and format it how you wish\n",
    "\n",
    "x = np.arange(1, 5)\n",
    "y = np.array([12, 15, 20, 5, 15])\n"
   ]
  },
  {
   "cell_type": "markdown",
   "id": "0faebc5d-d5b5-4076-9316-25380a3eaf08",
   "metadata": {},
   "source": [
    "### Line chart - showing change over time"
   ]
  },
  {
   "cell_type": "code",
   "execution_count": null,
   "id": "c113021c",
   "metadata": {},
   "outputs": [],
   "source": [
    "# line chart - showing change over time\n",
    "\n",
    "x = [1, 2, 3, 4, 5, 6, 7]\n",
    "y = [1, 2, 3, 4, 5, 6, 7]\n",
    "\n",
    "plt.plot(x, y)"
   ]
  },
  {
   "cell_type": "code",
   "execution_count": null,
   "id": "992b5465",
   "metadata": {},
   "outputs": [],
   "source": [
    "# change color of the line \n",
    "\n",
    "x = [1, 2, 3, 4, 5, 6, 7]\n",
    "y = [1, 2, 3, 4, 5, 6, 7]\n",
    "\n",
    "plt.plot(x, y, color='red')"
   ]
  },
  {
   "cell_type": "code",
   "execution_count": null,
   "id": "110600e4",
   "metadata": {},
   "outputs": [],
   "source": [
    "# change color and style of the line \n",
    "\n",
    "x = [1, 2, 3, 4, 5, 6, 7]\n",
    "y = [1, 2, 3, 4, 5, 6, 7]\n",
    "\n",
    "plt.plot(x, y, color='red', linestyle = 'dotted')"
   ]
  },
  {
   "cell_type": "code",
   "execution_count": null,
   "id": "58ec3218",
   "metadata": {},
   "outputs": [],
   "source": [
    "# change color, style and width of line\n",
    "\n",
    "x = [1, 2, 3, 4, 5, 6, 7]\n",
    "y = [1, 2, 3, 4, 5, 6, 7]\n",
    "\n",
    "plt.plot(x, y, color='red', linestyle = '-.', linewidth = 5)"
   ]
  },
  {
   "cell_type": "code",
   "execution_count": null,
   "id": "caa59009",
   "metadata": {},
   "outputs": [],
   "source": [
    "# add a marker\n",
    "\n",
    "x = [1, 2, 3, 4, 5, 6, 7]\n",
    "y = [1, 2, 3, 4, 5, 6, 7]\n",
    "\n",
    "# try diferent markers by running these one at a time\n",
    "\n",
    "plt.plot(x, y, marker='o') # dot marker\n",
    "#plt.plot(x, y, marker='s') # square marker\n",
    "#plt.plot(x, y, marker='D') # diamond marker\n",
    "#plt.plot(x, y, marker='*') # star marker\n",
    "#plt.plot(y, marker='o', markersize=12) # large dot marker\n",
    "\n"
   ]
  },
  {
   "cell_type": "code",
   "execution_count": null,
   "id": "a19ce32f",
   "metadata": {},
   "outputs": [],
   "source": [
    "# customize the marker even more\n",
    "\n",
    "x = [1, 2, 3, 4, 5, 6, 7]\n",
    "y = [1, 2, 3, 4, 5, 6, 7]\n",
    "\n",
    "plt.plot(x, y, marker='o', markersize=12, \n",
    "         markeredgecolor='red', markerfacecolor='yellow')"
   ]
  },
  {
   "cell_type": "markdown",
   "id": "898328a5",
   "metadata": {},
   "source": [
    "You can even make your own markers! Check out [this example](https://matplotlib.org/stable/gallery/lines_bars_and_markers/multivariate_marker_plot.html#sphx-glr-gallery-lines-bars-and-markers-multivariate-marker-plot-py) that used emojis in a scatterplot."
   ]
  },
  {
   "cell_type": "code",
   "execution_count": null,
   "id": "c2c6c0f3",
   "metadata": {},
   "outputs": [],
   "source": [
    "# multiple lines - just add them all to the plot\n",
    "\n",
    "x = ['Jan', 'Feb', 'March', 'Apr', 'May']\n",
    "y1 = [1, 2, 3, 4, 5]\n",
    "y2 = [2, 5, 9, 13, 18]\n",
    "y3 = [2, 4, 6, 8, 10]\n",
    "\n",
    "plt.plot(x, y1, x, y2, x, y3)"
   ]
  },
  {
   "cell_type": "code",
   "execution_count": null,
   "id": "751b180f",
   "metadata": {},
   "outputs": [],
   "source": [
    "# add axis labels and plot title\n",
    "\n",
    "x = ['Jan', 'Feb', 'March', 'Apr', 'May']\n",
    "y1 = [1, 2, 3, 4, 5]\n",
    "y2 = [2, 5, 9, 13, 18]\n",
    "y3 = [2, 4, 6, 8, 10]\n",
    "\n",
    "plt.plot(x, y1, x, y2, x, y3)\n",
    "plt.xlabel('Month')\n",
    "plt.ylabel('Sales')\n",
    "plt.title('Sales to date this year')\n"
   ]
  },
  {
   "cell_type": "code",
   "execution_count": null,
   "id": "9468cbdb",
   "metadata": {},
   "outputs": [],
   "source": [
    "# adding a legend and grid lines\n",
    "\n",
    "x = ['Jan', 'Feb', 'March', 'Apr', 'May']\n",
    "y1 = [1, 2, 3, 4, 5]\n",
    "y2 = [2, 5, 9, 13, 18]\n",
    "y3 = [2, 4, 6, 8, 10]\n",
    "\n",
    "plt.plot(x, y1, x, y2, x, y3, marker='o')\n",
    "plt.xlabel('Month')\n",
    "plt.ylabel('Sales')\n",
    "plt.title('Monthly Sales')\n",
    "plt.legend(labels=['Alice', 'Bob', 'Carol'], loc='upper left')\n",
    "plt.grid(True)"
   ]
  },
  {
   "cell_type": "code",
   "execution_count": null,
   "id": "2592f59b-9b8e-48ad-9e2a-a62138ea18f6",
   "metadata": {},
   "outputs": [],
   "source": [
    "# one more very important piece to add -- a source!\n",
    "\n",
    "x = ['Jan', 'Feb', 'March', 'Apr', 'May']\n",
    "y1 = [1, 2, 3, 4, 5]\n",
    "y2 = [2, 5, 9, 13, 18]\n",
    "y3 = [2, 4, 6, 8, 10]\n",
    "\n",
    "plt.plot(x, y1, x, y2, x, y3, marker='o')\n",
    "plt.xlabel('Month')\n",
    "plt.ylabel('Sales')\n",
    "plt.title('Monthly Sales')\n",
    "plt.legend(labels=['Alice', 'Bob', 'Carol'], loc='upper left')\n",
    "plt.figtext(0.90, 0.005, 'Source: Monthly sales data', horizontalalignment='right')\n",
    "plt.grid(True)\n",
    "\n"
   ]
  },
  {
   "cell_type": "code",
   "execution_count": null,
   "id": "636427c5-07d6-4682-8531-5b187fc2a37f",
   "metadata": {},
   "outputs": [],
   "source": [
    "# Your turn - make a line chart from this data and format how you wish\n",
    "\n",
    "x = np.linspace(0, 10, 50)  # Create an array of 50 evenly spaced values from 0 to 10\n",
    "y = np.random.randn(50)     # Generate 50 random data points\n",
    "\n",
    "\n",
    "\n"
   ]
  },
  {
   "cell_type": "markdown",
   "id": "0844cdcb-adfe-4ae0-aea3-3f60f5458a0b",
   "metadata": {},
   "source": [
    "### Pie chart - showing parts of a whole"
   ]
  },
  {
   "cell_type": "code",
   "execution_count": null,
   "id": "3dd302b9",
   "metadata": {},
   "outputs": [],
   "source": [
    "# pie chart - show percents of total\n",
    "\n",
    "x = (125, 300)\n",
    "\n",
    "plt.pie(x)"
   ]
  },
  {
   "cell_type": "code",
   "execution_count": null,
   "id": "72589208",
   "metadata": {},
   "outputs": [],
   "source": [
    "# add labels\n",
    "\n",
    "plt.pie(x, labels=['Male', 'Female'])"
   ]
  },
  {
   "cell_type": "code",
   "execution_count": null,
   "id": "5fe2b960",
   "metadata": {},
   "outputs": [],
   "source": [
    "# change the starting angle so it is easier to read\n",
    "\n",
    "plt.pie(x, labels=['Male', 'Female'], startangle=90)"
   ]
  },
  {
   "cell_type": "code",
   "execution_count": null,
   "id": "f4fcd829",
   "metadata": {},
   "outputs": [],
   "source": [
    "# separate a slice to emphasize it\n",
    "\n",
    "plt.pie(x, labels=['Male', 'Female'], startangle=90, explode=[0.1, 0])\n"
   ]
  },
  {
   "cell_type": "code",
   "execution_count": null,
   "id": "32a5a640",
   "metadata": {},
   "outputs": [],
   "source": [
    "# add percentage labels for clarity\n",
    "\n",
    "plt.pie(x, labels=['Male', 'Female'], startangle=90, autopct='%.1f%%')\n"
   ]
  },
  {
   "cell_type": "markdown",
   "id": "bfbcbb93-d12c-40ad-9b72-8350df9bc517",
   "metadata": {},
   "source": [
    "### Histogram - showing distribution"
   ]
  },
  {
   "cell_type": "code",
   "execution_count": null,
   "id": "02686d5f-04ce-4225-8148-00afa4429b0f",
   "metadata": {},
   "outputs": [],
   "source": [
    "# first using matplotlib\n",
    "\n",
    "# Sample data for the histogram\n",
    "data = np.random.randn(1000)\n",
    "\n",
    "# Create a histogram\n",
    "plt.hist(data, bins=20, color='lightgreen', edgecolor='black')\n",
    "plt.xlabel('Value')\n",
    "plt.ylabel('Frequency')\n",
    "plt.title('Histogram')\n",
    "plt.show()\n"
   ]
  },
  {
   "cell_type": "code",
   "execution_count": null,
   "id": "fb51aa5c-ee96-4200-ae91-851a7450b275",
   "metadata": {},
   "outputs": [],
   "source": [
    "# now with seaborn\n",
    "\n",
    "sns.distplot(data, kde=False, bins=30)"
   ]
  },
  {
   "cell_type": "markdown",
   "id": "948946f8",
   "metadata": {},
   "source": [
    "# More with bar charts - Titanic passenger data using Seaborn\n",
    "\n",
    "\n",
    "The sinking of the Titanic is one of the most infamous shipwrecks in history. On April 15, 1912, during her maiden voyage, the widely considered “unsinkable” RMS Titanic sank after colliding with an iceberg. Unfortunately, there weren’t enough lifeboats for everyone onboard, resulting in the death of 1502 out of 2224 passengers and crew.\n",
    "\n",
    "Let's use some visualizations to see some patterns in those who died or survived."
   ]
  },
  {
   "cell_type": "code",
   "execution_count": null,
   "id": "0d327eb0",
   "metadata": {},
   "outputs": [],
   "source": [
    "# load and preview data\n",
    "\n",
    "titanic = pd.read_csv('https://raw.githubusercontent.com/dnmalan/advanced-data-journalism-23/main/data/titanic.csv')\n",
    "\n",
    "titanic.head()"
   ]
  },
  {
   "cell_type": "code",
   "execution_count": null,
   "id": "aa25cfd3",
   "metadata": {},
   "outputs": [],
   "source": [
    "# bar chart using matplotlib\n",
    "\n",
    "# first have to group by and create a new dataframe\n",
    "survived = titanic.groupby('Survived').size()\n",
    "\n",
    "# then can create a bar chart using the counts\n",
    "titanic_barplot = survived.plot.bar()\n",
    "plt.ylabel(\"Counts\")\n",
    "plt.xlabel('Survived')\n",
    "plt.xticks(rotation=0)\n",
    "plt.show(titanic_barplot)"
   ]
  },
  {
   "cell_type": "code",
   "execution_count": null,
   "id": "821627ea",
   "metadata": {},
   "outputs": [],
   "source": [
    "# bar chart using seaborn (sns)\n",
    "# it will automatically create the counts for you\n",
    "\n",
    "sns.countplot(x='Survived', data=titanic)"
   ]
  },
  {
   "cell_type": "code",
   "execution_count": null,
   "id": "007678fd",
   "metadata": {},
   "outputs": [],
   "source": [
    "# and it includes some nice set styles \n",
    "\n",
    "sns.set_style('whitegrid')\n",
    "\n",
    "sns.countplot(x='Survived', data=titanic)"
   ]
  },
  {
   "cell_type": "code",
   "execution_count": null,
   "id": "187b5466",
   "metadata": {},
   "outputs": [],
   "source": [
    "# you can also more easily create different kinds of bar charts\n",
    "# such as this grouped bar chart\n",
    "\n",
    "sns.set_style('whitegrid')\n",
    "sns.countplot(x='Survived', hue='Pclass', data=titanic)"
   ]
  },
  {
   "cell_type": "markdown",
   "id": "4bd57c23-f9f0-4011-8c40-2f92fe8faf9f",
   "metadata": {},
   "source": [
    "Compare with [the code](https://matplotlib.org/stable/gallery/lines_bars_and_markers/barchart.html) to create a grouped bar chart in matplotlib."
   ]
  },
  {
   "cell_type": "code",
   "execution_count": null,
   "id": "eef5dd2f",
   "metadata": {},
   "outputs": [],
   "source": [
    "# Your turn -- create a similar chart for gender\n",
    "\n",
    "sns.set_style('whitegrid')\n",
    "\n",
    "sns.countplot(x='XXXXX', hue='XXXX', data=XXXX)"
   ]
  },
  {
   "cell_type": "code",
   "execution_count": null,
   "id": "a3848125-1f15-436c-ae86-f21944f594fc",
   "metadata": {},
   "outputs": [],
   "source": [
    "#stacked bar chart - no great options in seaborn, we can use pandas\n",
    "\n",
    "#create new data to put into chart\n",
    "total = titanic.groupby(['Survived','Pclass'])['Name'].count().unstack()\n",
    "\n",
    "# Simple one-liner using our total df\n",
    "total.plot(kind='bar', stacked=True)\n",
    "\n",
    "# Just add a title and rotate the x-axis labels to be horizontal.\n",
    "plt.title('Survival by passenger class')\n",
    "plt.xticks(rotation=0, ha='center')"
   ]
  },
  {
   "cell_type": "code",
   "execution_count": null,
   "id": "6d67f6fd-4535-4146-842f-e2aadbbb62e6",
   "metadata": {},
   "outputs": [],
   "source": [
    "# Show how I wrote this\n",
    "\n",
    "\n"
   ]
  },
  {
   "cell_type": "code",
   "execution_count": null,
   "id": "7c6f5e74-f5c3-4e55-887b-8507d4028582",
   "metadata": {},
   "outputs": [],
   "source": [
    "# your turn -- make a stacked bar chart of survival and gender\n",
    "\n",
    "#create new data to put into chart\n",
    "total = titanic.groupby(['Survived','XXX'])['Name'].count().unstack()\n",
    "\n",
    "# Simple one-liner using our total df\n",
    "total.plot(kind='bar', stacked=XXXX)\n",
    "\n",
    "# Just add a title and rotate the x-axis labels to be horizontal.\n",
    "plt.title('XXXX')\n",
    "plt.xticks(rotation=0, ha='center')"
   ]
  },
  {
   "cell_type": "code",
   "execution_count": null,
   "id": "e51a10a8-6176-463a-a3b4-b895f3fb237f",
   "metadata": {},
   "outputs": [],
   "source": [
    "# histogram using seaborn\n",
    "\n",
    "sns.distplot(titanic['Age'].dropna(), kde=False, bins=30)\n"
   ]
  },
  {
   "cell_type": "markdown",
   "id": "4a71be09",
   "metadata": {},
   "source": [
    "# More with line charts - using matplotlib & seaborn"
   ]
  },
  {
   "cell_type": "code",
   "execution_count": null,
   "id": "164a658a-3462-44b8-8ddf-ffa1059a105d",
   "metadata": {},
   "outputs": [],
   "source": [
    "# using matplotlib\n",
    "\n",
    "year = [1920, 1930, 1940, 1950, 1960, 1970, 1980, 1990, 2000, 2010]\n",
    "unemployment_rate = [9.8, 12, 8, 7.2, 6.9, 7, 6.5, 6.2, 5.5, 6.3]\n",
    "\n",
    "#create plot\n",
    "plt.plot(year, unemployment_rate, color='red', marker='o')\n",
    "plt.title('unemployment rate vs year', fontsize=14)\n",
    "plt.xlabel('year', fontsize=14)\n",
    "plt.ylabel('unemployment rate', fontsize=14)\n",
    "plt.grid(True)\n",
    "plt.show()"
   ]
  },
  {
   "cell_type": "code",
   "execution_count": null,
   "id": "1b227a01-3b66-45f3-90ff-6961b456bb71",
   "metadata": {},
   "outputs": [],
   "source": [
    "# Using seaborn\n",
    "\n",
    "year = [1920, 1930, 1940, 1950, 1960, 1970, 1980, 1990, 2000, 2010]\n",
    "unemployment_rate = [9.8, 12, 8, 7.2, 6.9, 7, 6.5, 6.2, 5.5, 6.3]\n",
    "  \n",
    "# Set Seaborn style\n",
    "sns.set(style=\"whitegrid\")\n",
    "\n",
    "# Create a line plot using Seaborn\n",
    "plt.figure(figsize=(8, 4))  # Adjust the figure size as needed\n",
    "sns.lineplot(x=year, y=unemployment_rate, marker='o', color='blue', linewidth=2)\n",
    "\n",
    "# Add labels and title\n",
    "plt.xlabel('Year')\n",
    "plt.ylabel('Unemployment Rate (%)')\n",
    "plt.title('Unemployment Rate Over Time')\n",
    "\n",
    "# Display the plot\n",
    "plt.xticks(rotation=45)  # Rotate x-axis labels for better readability\n",
    "plt.tight_layout()  # Improve layout spacing\n",
    "plt.show()"
   ]
  },
  {
   "cell_type": "code",
   "execution_count": null,
   "id": "8a403c74-7fa9-4ef3-a737-61c5b1096c41",
   "metadata": {},
   "outputs": [],
   "source": []
  },
  {
   "cell_type": "markdown",
   "id": "c2ca1b14",
   "metadata": {},
   "source": [
    "# Adding interactivity with Plotly"
   ]
  },
  {
   "cell_type": "code",
   "execution_count": null,
   "id": "61aa9d16-82fd-48b3-b705-077ef8730569",
   "metadata": {
    "scrolled": true
   },
   "outputs": [],
   "source": [
    "\n",
    "# Data\n",
    "year = [1920, 1930, 1940, 1950, 1960, 1970, 1980, 1990, 2000, 2010]\n",
    "unemployment_rate = [9.8, 12, 8, 7.2, 6.9, 7, 6.5, 6.2, 5.5, 6.3]\n",
    "\n",
    "# Create a DataFrame\n",
    "data = pd.DataFrame({'Year': year, 'Unemployment Rate (%)': unemployment_rate})\n",
    "\n",
    "# Create an interactive line chart with Plotly Express\n",
    "fig = px.line(data, x='Year', y='Unemployment Rate (%)', title='Unemployment Rate Over Time')\n",
    "\n",
    "# Customize the layout (optional)\n",
    "fig.update_layout(\n",
    "    xaxis_title='Year',\n",
    "    yaxis_title='Unemployment Rate (%)',\n",
    ")\n",
    "\n",
    "# Show the interactive plot\n",
    "fig.show()"
   ]
  },
  {
   "cell_type": "markdown",
   "id": "e42ec1fe-92e6-49f5-843c-aaa278fc9192",
   "metadata": {},
   "source": [
    "Let's redo the Olympic medals scatterplot with interactivity!"
   ]
  },
  {
   "cell_type": "code",
   "execution_count": null,
   "id": "75a8bf3d-85e7-4d24-b6b3-724285296c11",
   "metadata": {},
   "outputs": [],
   "source": [
    "# Import data from a CSV file\n",
    "df_olympics = pd.read_csv('https://raw.githubusercontent.com/dnmalan/advanced-data-journalism-23/main/data/olympics_medals_country_wise.csv')\n",
    "\n",
    "# Display the first few rows of the DataFrame\n",
    "df_olympics.head()"
   ]
  },
  {
   "cell_type": "code",
   "execution_count": null,
   "id": "0977ef6b-fc30-4966-8552-291836d4ed8b",
   "metadata": {},
   "outputs": [],
   "source": [
    "# reminder of original scatterplot using matplotlib\n",
    "\n",
    "plt.figure(figsize=(10, 6))\n",
    "plt.scatter(df_olympics['total_participation'], df_olympics['total_total '], alpha=0.5, color='b')\n",
    "plt.xlabel('Combined Participations (Summer + Winter)')\n",
    "plt.ylabel('Total Medals')\n",
    "plt.title('Scatterplot of Total Medals vs. Combined Participations')\n",
    "plt.grid(True)\n",
    "plt.show()"
   ]
  },
  {
   "cell_type": "code",
   "execution_count": null,
   "id": "891f119e-142a-4a08-b840-834974a39f33",
   "metadata": {},
   "outputs": [],
   "source": [
    "# now in plotly\n",
    "\n",
    "fig = px.scatter(df_olympics, x='total_participation', y='total_total ',\n",
    "                 title='Scatterplot of Total Medals vs. Combined Participations',\n",
    "                 labels={'total_participation': 'Combined Participations (Summer + Winter)',\n",
    "                         'total_total ': 'Total Medals'})\n",
    "\n",
    "# Customize the appearance (optional)\n",
    "fig.update_traces(marker=dict(size=8, opacity=0.5), selector=dict(mode='markers'))\n",
    "\n",
    "# Add grid lines (optional)\n",
    "fig.update_xaxes(showgrid=True, gridwidth=1, gridcolor='lightgray')\n",
    "fig.update_yaxes(showgrid=True, gridwidth=1, gridcolor='lightgray')\n",
    "\n",
    "# Show the interactive plot\n",
    "fig.show()\n"
   ]
  },
  {
   "cell_type": "code",
   "execution_count": null,
   "id": "d44e28fc-d4dd-4601-b6b0-94fc8ba21d80",
   "metadata": {},
   "outputs": [],
   "source": [
    "# add labels for country \n",
    "\n",
    "# add the \"hover_data\" parameter\n",
    "fig = px.scatter(df_olympics, x='total_participation', y='total_total ', hover_data=['countries '],\n",
    "                 title='Scatterplot of Total Medals vs. Combined Participations',\n",
    "                 labels={'total_participation': 'Combined Participations (Summer + Winter)',\n",
    "                         'total_total ': 'Total Medals', 'countries ': 'Country'})\n",
    "\n",
    "# Customize the appearance (optional)\n",
    "fig.update_traces(marker=dict(size=8, opacity=0.5), selector=dict(mode='markers'))\n",
    "\n",
    "# Add grid lines (optional)\n",
    "fig.update_xaxes(showgrid=True, gridwidth=1, gridcolor='lightgray')\n",
    "fig.update_yaxes(showgrid=True, gridwidth=1, gridcolor='lightgray')\n",
    "\n",
    "# Show the interactive plot\n",
    "fig.show()\n"
   ]
  },
  {
   "cell_type": "markdown",
   "id": "3ecca233-d142-4afb-9fad-ee8c18194eff",
   "metadata": {},
   "source": [
    "# Mapping in plotly\n",
    "\n",
    "See the [plotly reference](https://plotly.com/python/maps/) for available maps and styles."
   ]
  },
  {
   "cell_type": "code",
   "execution_count": null,
   "id": "be08db50-09b5-4529-90d9-8f674a1c097a",
   "metadata": {},
   "outputs": [],
   "source": [
    "# start by creating a basic world map, using the built-in countries data in plotly\n",
    "\n",
    "df = px.data.gapminder().query(\"year==2007\")\n",
    "fig = px.choropleth(df, locations=\"iso_alpha\",\n",
    "                    color=\"lifeExp\") # lifeExp is a column of gapminder)\n",
    "fig.show()"
   ]
  },
  {
   "cell_type": "code",
   "execution_count": null,
   "id": "ede9a0fe-94a2-4d8a-bde3-b7312255bcb3",
   "metadata": {},
   "outputs": [],
   "source": [
    "# add some formatting\n",
    "\n",
    "df = px.data.gapminder().query(\"year==2007\")\n",
    "fig = px.choropleth(df, locations=\"iso_alpha\",\n",
    "                    color=\"lifeExp\", # lifeExp is a column of gapminder\n",
    "                    hover_name=\"country\", # column to add to hover information\n",
    "                    color_continuous_scale=px.colors.sequential.Plasma)\n",
    "fig.show()"
   ]
  },
  {
   "cell_type": "code",
   "execution_count": null,
   "id": "1084238f-b911-48b9-b49e-b77fe2bb27d5",
   "metadata": {},
   "outputs": [],
   "source": [
    "# Plotting GDP by country\n",
    "\n",
    "import plotly.graph_objects as go\n",
    "\n",
    "df = pd.read_csv('https://raw.githubusercontent.com/plotly/datasets/master/2014_world_gdp_with_codes.csv')\n",
    "\n",
    "fig = go.Figure(data=go.Choropleth( # type of map = choropleth\n",
    "    locations = df['CODE'], # locations are the country code\n",
    "    z = df['GDP (BILLIONS)'], # color by gdp \n",
    "))\n",
    "\n",
    "\n",
    "fig.show()"
   ]
  },
  {
   "cell_type": "code",
   "execution_count": null,
   "id": "b122b6d8-2150-4cb7-bd3c-893f09072b5a",
   "metadata": {},
   "outputs": [],
   "source": [
    "# add formatting\n",
    "\n",
    "fig = go.Figure(data=go.Choropleth(\n",
    "    locations = df['CODE'],\n",
    "    z = df['GDP (BILLIONS)'],\n",
    "    text = df['COUNTRY'],\n",
    "    colorscale = 'Blues',\n",
    "    autocolorscale=False,\n",
    "    reversescale=True,\n",
    "    marker_line_color='darkgray',\n",
    "    marker_line_width=0.5,\n",
    "    colorbar_tickprefix = '$',\n",
    "    colorbar_title = 'GDP<br>Billions US$',\n",
    "))\n",
    "\n",
    "fig.update_layout(\n",
    "    title_text='2014 Global GDP',\n",
    "    geo=dict(\n",
    "        showframe=False,\n",
    "        showcoastlines=False,\n",
    "        projection_type='equirectangular'\n",
    "    ),\n",
    "    annotations = [dict(\n",
    "        x=0.55,\n",
    "        y=0.1,\n",
    "        xref='paper',\n",
    "        yref='paper',\n",
    "        text='Source: <a href=\"https://www.cia.gov/library/publications/the-world-factbook/fields/2195.html\">\\\n",
    "            CIA World Factbook</a>',\n",
    "        showarrow = False\n",
    "    )]\n",
    ")\n",
    "\n",
    "fig.show()"
   ]
  },
  {
   "cell_type": "markdown",
   "id": "57474b09",
   "metadata": {},
   "source": [
    "# Example - global youth unemployment\n",
    "\n",
    "This example is adapted from the [Kaggle notebook](https://www.kaggle.com/code/arthurtok/generation-unemployed-interactive-plotly-visuals/notebook) by Anisotropic, a data scientist in London. The project explores youth unemployment around the world during a 5-year period.\n",
    "\n",
    "## Project setup"
   ]
  },
  {
   "cell_type": "code",
   "execution_count": null,
   "id": "26a75b5a",
   "metadata": {},
   "outputs": [],
   "source": [
    "# Import the relevant libraries\n",
    "import numpy as np\n",
    "import pandas as pd\n",
    "import matplotlib.pyplot as plt\n",
    "%matplotlib inline\n",
    "import plotly.offline as py\n",
    "py.init_notebook_mode(connected=True)\n",
    "import plotly.graph_objs as go\n",
    "import plotly.tools as tls\n",
    "import seaborn as sns\n",
    "import warnings\n",
    "warnings.filterwarnings('ignore')"
   ]
  },
  {
   "cell_type": "code",
   "execution_count": null,
   "id": "9d0d6ed4",
   "metadata": {},
   "outputs": [],
   "source": [
    "# load and preview the data\n",
    "\n",
    "country = pd.read_csv('https://raw.githubusercontent.com/dnmalan/advanced-data-journalism-23/1cd04389879d1897c43de4a80bf851a34e693154/data/API_ILO_country_YU.csv')\n",
    "country.head()"
   ]
  },
  {
   "cell_type": "code",
   "execution_count": null,
   "id": "881b59e5",
   "metadata": {},
   "outputs": [],
   "source": [
    "# check the shape\n",
    "\n",
    "country.shape"
   ]
  },
  {
   "cell_type": "markdown",
   "id": "61992214",
   "metadata": {},
   "source": [
    "## Clean data\n"
   ]
  },
  {
   "cell_type": "code",
   "execution_count": null,
   "id": "6d9f92b9",
   "metadata": {},
   "outputs": [],
   "source": [
    "# Check the list of country names\n",
    "display(country['Country Name'].unique())"
   ]
  },
  {
   "cell_type": "markdown",
   "id": "839d0534",
   "metadata": {},
   "source": [
    "Some countries are not countries at all! They are regions, and one is the entire world. We need to get rid of these non-countries."
   ]
  },
  {
   "cell_type": "code",
   "execution_count": null,
   "id": "bbe4a296",
   "metadata": {},
   "outputs": [],
   "source": [
    "# Create our new list of countries that we want to plot for. This was done manually as I was lazy\n",
    "# to think of any clever tricks (eg text processing) to filter. \n",
    "country_list = ['Afghanistan','Angola','Albania','Argentina','Armenia','Australia'\n",
    ",'Austria','Azerbaijan','Burundi','Belgium','Benin','Burkina Faso','Bangladesh','Bulgaria'\n",
    ",'Bahrain','Bosnia and Herzegovina','Belarus','Belize','Bolivia','Brazil','Barbados','Brunei Darussalam'\n",
    ",'Bhutan','Botswana','Central African Republic','Canada','Switzerland','Chile','China','Cameroon'\n",
    ",'Congo','Colombia','Comoros','Cabo Verde','Costa Rica','Cuba','Cyprus','Czech Republic','Germany'\n",
    ",'Denmark','Dominican Republic','Algeria','Ecuador','Egypt','Spain','Estonia','Ethiopia','Finland','Fiji'\n",
    ",'France','Gabon','United Kingdom','Georgia','Ghana','Guinea','Greece','Guatemala','Guyana','Hong Kong'\n",
    ",'Honduras','Croatia','Haiti','Hungary','Indonesia','India','Ireland','Iran','Iraq','Iceland','Israel'\n",
    ",'Italy','Jamaica','Jordan','Japan','Kazakhstan','Kenya','Cambodia','Korea, Rep.','Kuwait','Lebanon','Liberia'\n",
    ",'Libya','Sri Lanka','Lesotho','Lithuania','Luxembourg','Latvia','Macao','Morocco','Moldova','Madagascar'\n",
    ",'Maldives','Mexico','Macedonia','Mali','Malta','Myanmar','Montenegro','Mongolia','Mozambique','Mauritania'\n",
    ",'Mauritius','Malawi','Malaysia','North America','Namibia','Niger','Nigeria','Nicaragua','Netherlands'\n",
    ",'Norway','Nepal','New Zealand   ','Oman','Pakistan','Panama','Peru','Philippines','Papua New Guinea'\n",
    ",'Poland','Puerto Rico','Portugal','Paraguay','Qatar','Romania','Russian Federation','Rwanda','Saudi Arabia'\n",
    ",'Sudan','Senegal','Singapore','Solomon Islands','Sierra Leone','El Salvador','Somalia','Serbia','Slovenia'\n",
    ",'Sweden','Swaziland','Syrian Arab Republic','Chad','Togo','Thailand','Tajikistan','Turkmenistan','Timor-Leste'\n",
    ",'Trinidad and Tobago','Tunisia','Turkey','Tanzania','Uganda','Ukraine','Uruguay','United States','Uzbekistan'\n",
    ",'Venezuela, RB','Vietnam','Yemen, Rep.','South Africa','Congo, Dem. Rep.','Zambia','Zimbabwe'\n",
    "]"
   ]
  },
  {
   "cell_type": "code",
   "execution_count": null,
   "id": "a4597277",
   "metadata": {},
   "outputs": [],
   "source": [
    "# Create a new dataframe with our cleaned country list\n",
    "country_clean = country[country['Country Name'].isin(country_list)]"
   ]
  },
  {
   "cell_type": "markdown",
   "id": "b8687bd0",
   "metadata": {},
   "source": [
    "## Create plots\n",
    "\n",
    "### Interactive globe"
   ]
  },
  {
   "cell_type": "code",
   "execution_count": null,
   "id": "63368966",
   "metadata": {
    "scrolled": true
   },
   "outputs": [],
   "source": [
    "# Plotting 2010 and 2014 visuals\n",
    "metricscale1=[[0, 'rgb(102,194,165)'], [0.05, 'rgb(102,194,165)'], \n",
    "              [0.15, 'rgb(171,221,164)'], [0.2, 'rgb(230,245,152)'], \n",
    "              [0.25, 'rgb(255,255,191)'], [0.35, 'rgb(254,224,139)'], \n",
    "              [0.45, 'rgb(253,174,97)'], [0.55, 'rgb(213,62,79)'], [1.0, 'rgb(158,1,66)']]\n",
    "data = [ dict(\n",
    "        type = 'choropleth',\n",
    "        autocolorscale = False,\n",
    "        colorscale = metricscale1,\n",
    "        showscale = True,\n",
    "        locations = country_clean['Country Name'].values,\n",
    "        z = country_clean['2010'].values,\n",
    "        locationmode = 'country names',\n",
    "        text = country_clean['Country Name'].values,\n",
    "        marker = dict(\n",
    "            line = dict(color = 'rgb(250,250,225)', width = 0.5)),\n",
    "            colorbar = dict(autotick = True, tickprefix = '', \n",
    "            title = 'Unemployment\\nRate')\n",
    "            )\n",
    "       ]\n",
    "\n",
    "layout = dict(\n",
    "    title = 'World Map of Global Youth Unemployment in the Year 2010',\n",
    "    geo = dict(\n",
    "        showframe = True,\n",
    "        showocean = True,\n",
    "        oceancolor = 'rgb(28,107,160)',\n",
    "        #oceancolor = 'rgb(222,243,246)',\n",
    "        projection = dict(\n",
    "        type = 'orthographic',\n",
    "            rotation = dict(\n",
    "                    lon = 60,\n",
    "                    lat = 10),\n",
    "        ),\n",
    "        lonaxis =  dict(\n",
    "                showgrid = False,\n",
    "                gridcolor = 'rgb(102, 102, 102)'\n",
    "            ),\n",
    "        lataxis = dict(\n",
    "                showgrid = False,\n",
    "                gridcolor = 'rgb(102, 102, 102)'\n",
    "                )\n",
    "            ),\n",
    "        )\n",
    "fig = dict(data=data, layout=layout)\n",
    "py.iplot(fig, validate=False, filename='worldmap2010')\n",
    "\n",
    "metricscale2=[[0, 'rgb(102,194,165)'], [0.05, 'rgb(102,194,165)'], \n",
    "              [0.15, 'rgb(171,221,164)'], [0.2, 'rgb(230,245,152)'], \n",
    "              [0.25, 'rgb(255,255,191)'], [0.35, 'rgb(254,224,139)'], \n",
    "              [0.45, 'rgb(253,174,97)'], [0.55, 'rgb(213,62,79)'], [1.0, 'rgb(158,1,66)']]\n",
    "data = [ dict(\n",
    "        type = 'choropleth',\n",
    "        autocolorscale = False,\n",
    "        colorscale = metricscale2,\n",
    "        showscale = True,\n",
    "        locations = country_clean['Country Name'].values,\n",
    "        z = country_clean['2014'].values,\n",
    "        locationmode = 'country names',\n",
    "        text = country_clean['Country Name'].values,\n",
    "        marker = dict(\n",
    "            line = dict(color = 'rgb(250,250,200)', width = 0.5)),\n",
    "            colorbar = dict(autotick = True, tickprefix = '', \n",
    "            title = 'Unemployment\\nRate')\n",
    "            )\n",
    "       ]\n",
    "\n",
    "layout = dict(\n",
    "    title = 'World Map of Global Youth Unemployment in the Year 2014',\n",
    "    geo = dict(\n",
    "        showframe = True,\n",
    "        showocean = True,\n",
    "        oceancolor = 'rgb(28,107,160)',\n",
    "        projection = dict(\n",
    "        type = 'orthographic',\n",
    "            rotation = dict(\n",
    "                    lon = 60,\n",
    "                    lat = 10),\n",
    "        ),\n",
    "        lonaxis =  dict(\n",
    "                showgrid = False,\n",
    "                gridcolor = 'rgb(202, 202, 202)',\n",
    "                width = '0.05'\n",
    "            ),\n",
    "        lataxis = dict(\n",
    "                showgrid = False,\n",
    "                gridcolor = 'rgb(102, 102, 102)'\n",
    "                )\n",
    "            ),\n",
    "        )\n",
    "fig = dict(data=data, layout=layout)\n",
    "py.iplot(fig, validate=False, filename='worldmap2014')"
   ]
  },
  {
   "cell_type": "markdown",
   "id": "b458d8c6",
   "metadata": {},
   "source": [
    "## Scatterplots, 2010 and 2014"
   ]
  },
  {
   "cell_type": "code",
   "execution_count": null,
   "id": "44703423",
   "metadata": {},
   "outputs": [],
   "source": [
    "# Scatter plot of 2010 unemployment rates\n",
    "trace = go.Scatter(\n",
    "    y = country_clean['2010'].values,\n",
    "    mode='markers',\n",
    "    marker=dict(\n",
    "        size= country_clean['2010'].values,\n",
    "        #color = np.random.randn(500), #set color equal to a variable\n",
    "        color = country_clean['2010'].values,\n",
    "        colorscale='Portland',\n",
    "        showscale=True\n",
    "    ),\n",
    "    text = country_clean['Country Name'].values\n",
    ")\n",
    "data = [trace]\n",
    "\n",
    "layout= go.Layout(\n",
    "    autosize= True,\n",
    "    title= 'Scatter plot of unemployment rates in 2010',\n",
    "    hovermode= 'closest',\n",
    "#     xaxis= dict(\n",
    "#         title= 'Pop',\n",
    "#         ticklen= 5,\n",
    "#         zeroline= False,\n",
    "#         gridwidth= 2,\n",
    "#     ),\n",
    "    yaxis=dict(\n",
    "        title= 'Unemployment Rate',\n",
    "        ticklen= 5,\n",
    "        gridwidth= 2,\n",
    "    ),\n",
    "    showlegend= False\n",
    ")\n",
    "fig = go.Figure(data=data, layout=layout)\n",
    "py.iplot(fig,filename='scatter2010')\n",
    "\n",
    "# Scatter plot of 2014 unemployment rates\n",
    "trace1 = go.Scatter(\n",
    "    y = country_clean['2014'].values,\n",
    "    mode='markers',\n",
    "    marker=dict(\n",
    "        size=country_clean['2014'].values,\n",
    "        #color = np.random.randn(500), #set color equal to a variable\n",
    "        color = country_clean['2014'].values,\n",
    "        colorscale='Portland',\n",
    "        showscale=True\n",
    "    ),\n",
    "    text = country_clean['Country Name']\n",
    ")\n",
    "data = [trace1]\n",
    "\n",
    "layout= go.Layout(\n",
    "    title= 'Scatter plot of unemployment rates in 2014',\n",
    "    hovermode= 'closest',\n",
    "    xaxis= dict(\n",
    "        ticklen= 5,\n",
    "        zeroline= False,\n",
    "        gridwidth= 2,\n",
    "    ),\n",
    "    yaxis=dict(\n",
    "        title= 'Unemployment Rate',\n",
    "        ticklen= 5,\n",
    "        gridwidth= 2,\n",
    "    ),\n",
    "    showlegend= False\n",
    ")\n",
    "\n",
    "fig = go.Figure(data=data, layout=layout)\n",
    "py.iplot(fig,filename='scatter2014')"
   ]
  },
  {
   "cell_type": "markdown",
   "id": "f78e4b4d",
   "metadata": {},
   "source": [
    "## Heatmap of change in unemployment 2010-2014\n",
    "\n",
    "This heatmap uses the Seaborn library to visualize the countries that had the biggest change in unemployment (top 15 and bottom 15 countries)."
   ]
  },
  {
   "cell_type": "code",
   "execution_count": null,
   "id": "66519f56",
   "metadata": {},
   "outputs": [],
   "source": [
    "# I first create an array containing the net movement in the unemployment rate.\n",
    "diff = country_clean['2014'].values - country_clean['2010'].values"
   ]
  },
  {
   "cell_type": "code",
   "execution_count": null,
   "id": "8bb02cbd",
   "metadata": {},
   "outputs": [],
   "source": [
    "# filter to only the top and bottom 15 moving countries\n",
    "\n",
    "x, y = (list(x) for x in zip(*sorted(zip(diff, country_clean['Country Name'].values), \n",
    "                                                            reverse = True)))\n",
    "\n",
    "# Now I want to extract out the top 15 and bottom 15 countries \n",
    "Y = np.concatenate([y[0:15], y[-16:-1]])\n",
    "X = np.concatenate([x[0:15], x[-16:-1]])"
   ]
  },
  {
   "cell_type": "code",
   "execution_count": null,
   "id": "1a346259",
   "metadata": {},
   "outputs": [],
   "source": [
    "# Resize our dataframe first\n",
    "keys = [c for c in country_clean if c.startswith('20')]\n",
    "country_resize = pd.melt(country_clean, id_vars='Country Name', value_vars=keys, value_name='key')\n",
    "country_resize['Year'] = country_resize['variable']\n",
    "\n",
    "# Use boolean filtering to extract only our top 15 and bottom 15 moving countries\n",
    "mask = country_resize['Country Name'].isin(Y)\n",
    "country_final = country_resize[mask]\n",
    "\n",
    "# Finally plot the seaborn heatmap\n",
    "plt.figure(figsize=(12,10))\n",
    "country_pivot = country_final.pivot(\"Country Name\",\"Year\",  \"key\")\n",
    "country_pivot = country_pivot.sort_values('2014', ascending=False)\n",
    "ax = sns.heatmap(country_pivot, cmap='coolwarm', annot=False, linewidths=0, linecolor='white')\n",
    "plt.title('Movement in Unemployment rate ( Warmer: Higher rate, Cooler: Lower rate )')"
   ]
  },
  {
   "cell_type": "markdown",
   "id": "96d62c08",
   "metadata": {},
   "source": [
    "# Example - World Happiness, 2008-21\n",
    "\n",
    "See the [Kaggle notebook](https://www.kaggle.com/code/erglbozkurt/world-happiness-explanatory-data-analysis) by ERGÜLÜ BOZKURT for example data prep and visualizations."
   ]
  },
  {
   "cell_type": "markdown",
   "id": "40b544db-fc1a-43d2-b368-7d91886deec0",
   "metadata": {},
   "source": [
    "# Example - Chinese population analysis\n",
    "\n",
    "See the [Kaggle notebook](https://www.kaggle.com/code/masatoshikato/china-s-population-map) by MASATOSHI KATO for example data prep and visualizations."
   ]
  },
  {
   "cell_type": "code",
   "execution_count": null,
   "id": "ccad9680-5988-4d5e-816f-d5bc552ad2ca",
   "metadata": {},
   "outputs": [],
   "source": []
  }
 ],
 "metadata": {
  "kernelspec": {
   "display_name": "Python 3 (ipykernel)",
   "language": "python",
   "name": "python3"
  },
  "language_info": {
   "codemirror_mode": {
    "name": "ipython",
    "version": 3
   },
   "file_extension": ".py",
   "mimetype": "text/x-python",
   "name": "python",
   "nbconvert_exporter": "python",
   "pygments_lexer": "ipython3",
   "version": "3.9.1"
  }
 },
 "nbformat": 4,
 "nbformat_minor": 5
}
