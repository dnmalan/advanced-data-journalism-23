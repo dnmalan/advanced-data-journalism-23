{
 "cells": [
  {
   "cell_type": "markdown",
   "metadata": {
    "id": "C8bW--_k05Yh"
   },
   "source": [
    "# 1: Introduction to Pandas"
   ]
  },
  {
   "cell_type": "markdown",
   "metadata": {
    "id": "5StBXrTC1Qb9"
   },
   "source": [
    "In this lesson, we will explore how to manipulate and analyze data using Pandas. Pandas excels in data cleaning, preparation, exploration, and transformation, making it an indispensable library for data professionals.\n",
    "\n",
    "We'll use a dataset of baseball player salaries, which includes columns for Name, Team, League, Position, and Salary. You will learn how to perform essential operations on DataFrames, such as importing data, displaying data, sorting, filtering, running functions, and using group by.\n",
    "\n",
    "### Helpful links\n",
    "\n",
    "- [10 minutes to Pandas](https://pandas.pydata.org/docs/user_guide/10min.html)\n",
    "- [Pandas tutorials, quizzes and exercises on W3 schools](https://www.w3schools.com/python/pandas/default.asp)"
   ]
  },
  {
   "cell_type": "markdown",
   "metadata": {
    "id": "MU9oFz5b1X6w"
   },
   "source": [
    "## 1.1 Importing data from a CSV and creating a dataframe\n",
    "\n",
    "First we need to import our dataset. You can import from various places, including your computer, cloud storage, or github (via a url). We will import a csv file that is stored in github at this url:\n",
    "\n",
    "https://raw.githubusercontent.com/dnmalan/advanced-data-journalism-23/main/data/baseball_players.csv\n",
    "\n",
    "Pandas uses objects called **dataframes**,  or a two-dimensional tabular data structure that organizes data into rows and columns.\n"
   ]
  },
  {
   "cell_type": "code",
   "execution_count": null,
   "metadata": {
    "id": "mrD-SHuU01iL"
   },
   "outputs": [],
   "source": [
    "# Import the libraries needed into your notebook\n",
    "import pandas as pd\n"
   ]
  },
  {
   "cell_type": "code",
   "execution_count": null,
   "metadata": {
    "id": "-jWSA9t_NNIO"
   },
   "outputs": [],
   "source": [
    "# Create a dataframe called \"df\", and import a csv file into that dataframe\n",
    "df = pd.read_csv('https://raw.githubusercontent.com/dnmalan/advanced-data-journalism-23/main/data/baseball_players.csv')\n",
    "\n",
    "# Display the first few rows of the DataFrame\n",
    "df.head()"
   ]
  },
  {
   "cell_type": "markdown",
   "metadata": {
    "id": "WCb0Vxg_5dT9"
   },
   "source": [
    "Pandas generally follows this format to run functions:\n",
    "\n",
    "- **dataframe.function()**\n",
    "\n",
    "This is what's called a Python **method**, or a function that is associated with an object (the dataframe) and can perform actions on it."
   ]
  },
  {
   "cell_type": "markdown",
   "metadata": {
    "id": "Wtq_VG4t15fU"
   },
   "source": [
    "## 1.2 Exploring the dataset\n",
    "Before doing any analysis, we'll need to explore and get to know the dataset. Let's inspect the first and last few rows, as well as get some initial statistics about our dataset."
   ]
  },
  {
   "cell_type": "code",
   "execution_count": null,
   "metadata": {
    "id": "BlqvGv005JAl"
   },
   "outputs": [],
   "source": [
    "# Display the first 5 rows\n",
    "df.head()"
   ]
  },
  {
   "cell_type": "code",
   "execution_count": null,
   "metadata": {
    "id": "7aD7p5SYNQYb"
   },
   "outputs": [],
   "source": [
    "# Display the last 5 rows\n",
    "df.tail()"
   ]
  },
  {
   "cell_type": "markdown",
   "metadata": {
    "id": "SP1f-Mta7krN"
   },
   "source": [
    "\n",
    "You can also look at any number of rows by adding a number within the parentheses."
   ]
  },
  {
   "cell_type": "code",
   "execution_count": null,
   "metadata": {
    "id": "XGUhwm8D7gRx"
   },
   "outputs": [],
   "source": [
    "#display first 10 rows\n",
    "df.head(10)"
   ]
  },
  {
   "cell_type": "markdown",
   "metadata": {
    "id": "Ub3cInaBIitR"
   },
   "source": [
    "If you want to see just one column, use this syntax:\n",
    "\n",
    "- **df['column']**"
   ]
  },
  {
   "cell_type": "code",
   "execution_count": null,
   "metadata": {
    "id": "W6lZ7OVBNVOa"
   },
   "outputs": [],
   "source": [
    "# Display only the player name column\n",
    "df['Name']"
   ]
  },
  {
   "cell_type": "code",
   "execution_count": null,
   "metadata": {},
   "outputs": [],
   "source": [
    "# On your own: Display only the team name column\n",
    "\n",
    "\n"
   ]
  },
  {
   "cell_type": "markdown",
   "metadata": {
    "id": "Nm-v4asE71Yj"
   },
   "source": [
    "You can also print the entire dataset to see the beginning and end."
   ]
  },
  {
   "cell_type": "code",
   "execution_count": null,
   "metadata": {
    "id": "SvhxvmBy70gl"
   },
   "outputs": [],
   "source": [
    "#print out the entire dataframe\n",
    "print(df)"
   ]
  },
  {
   "cell_type": "markdown",
   "metadata": {
    "id": "g322AhKK5Lo1"
   },
   "source": [
    "You can also get some basic summaries very quickly with the shape and describe functions."
   ]
  },
  {
   "cell_type": "code",
   "execution_count": null,
   "metadata": {
    "id": "zm7_hyNb1XfI"
   },
   "outputs": [],
   "source": [
    "# Find how many rows and columns in the dataset\n",
    "df.shape"
   ]
  },
  {
   "cell_type": "code",
   "execution_count": null,
   "metadata": {
    "id": "QA7E4V1aIcaA"
   },
   "outputs": [],
   "source": [
    "# Summary statistics for numeric columns\n",
    "df.describe()"
   ]
  },
  {
   "cell_type": "code",
   "execution_count": null,
   "metadata": {
    "id": "t2G7xpcwOU6D"
   },
   "outputs": [],
   "source": [
    "#add this formatting snippet to turn off scientific notation\n",
    "\n",
    "df.describe().apply(lambda s: s.apply('{0:.2f}'.format))"
   ]
  },
  {
   "cell_type": "markdown",
   "metadata": {
    "id": "HGOAlSlZ6qHT"
   },
   "source": [
    "## 1.3 Analyzing the dataset\n",
    "\n",
    "Now that we've got a feel for what's in the datsaet, let's do some analysis, including sorting, filtering and functions.\n",
    "\n",
    "### Sorting\n",
    "\n",
    "Let's find who makes the highest salary (and lowest salary) by sorting this dataset. We will use the **sort_values** method and incorporating the parameters **by** (to tell Pandas which column to sort by) and **ascending** (to tell Pandas what order to sort by)."
   ]
  },
  {
   "cell_type": "code",
   "execution_count": null,
   "metadata": {
    "id": "IIQoZhpX94Y9"
   },
   "outputs": [],
   "source": [
    "#sort by salaries in descending order (largest salary at the top)\n",
    "\n",
    "df.sort_values(by='Salary', ascending=False)\n"
   ]
  },
  {
   "cell_type": "code",
   "execution_count": null,
   "metadata": {
    "id": "CJxy9Lw5-o73"
   },
   "outputs": [],
   "source": [
    "#sort by salaries in ascending order (smallest salary at the top)\n",
    "\n",
    "df.sort_values(by='Salary', ascending=True)"
   ]
  },
  {
   "cell_type": "code",
   "execution_count": null,
   "metadata": {},
   "outputs": [],
   "source": [
    "# On your own: Sort by team, in both ascending and descending order\n",
    "\n",
    "\n",
    "\n"
   ]
  },
  {
   "cell_type": "markdown",
   "metadata": {
    "id": "38yHkedF-36m"
   },
   "source": [
    "### Filtering\n",
    "\n",
    "Filtering is the way to find a subset of the dataframe that matches a specific criteria or set of criteria. Think of it as searching your data, and the filter will return rows that match. You can search within text or numerical columns, and you can also search within just one or in multiple columns at once.\n",
    "\n",
    "To filter in Pandas, you'll need several pieces:\n",
    "\n",
    "- Column: The column you want to search in.\n",
    "- Comparison operator: equal to (==), not equal to (!=), greater than (>), less than (<), greater than or equal to (>=), and less than or equal to (<=)\n",
    "- Criteria: The information you want to search by.\n",
    "\n",
    "The filter generally follows this pattern:\n",
    "\n",
    "- **df[df['column'] == 'value']**"
   ]
  },
  {
   "cell_type": "markdown",
   "metadata": {
    "id": "3IP8uHqsBYpR"
   },
   "source": [
    "#### Filtering by numbers\n",
    "\n",
    "Do not put quotes around the numbers you're filtering by."
   ]
  },
  {
   "cell_type": "code",
   "execution_count": null,
   "metadata": {
    "id": "mqlHnG25BRmg"
   },
   "outputs": [],
   "source": [
    "#Find players who make the minimum wage\n",
    "\n",
    "df[df['Salary'] == 555000]"
   ]
  },
  {
   "cell_type": "code",
   "execution_count": null,
   "metadata": {
    "id": "168VLqDiCO00"
   },
   "outputs": [],
   "source": [
    "#Find players who make more than $10 million\n",
    "df[df['Salary'] > 10000000]"
   ]
  },
  {
   "cell_type": "markdown",
   "metadata": {
    "id": "WLSUttEJBdeD"
   },
   "source": [
    "#### Filtering by text\n",
    "\n",
    "Put quotes around the text value you're filtering by."
   ]
  },
  {
   "cell_type": "code",
   "execution_count": null,
   "metadata": {
    "id": "u7VCrL2k_q2A"
   },
   "outputs": [],
   "source": [
    "#find all the Kansas City Royals players\n",
    "df[df['Team'] == 'Kansas City Royals']\n"
   ]
  },
  {
   "cell_type": "markdown",
   "metadata": {
    "id": "hVhDyQjbBg-o"
   },
   "source": [
    "#### Filtering by multiple columns\n",
    "\n",
    "Now let's put these together and search for anyone who makes the minimum wage on the Kansas City Royals.\n",
    "\n",
    "To filter by multiple columns, we need to add a logical operator (AND, OR, or NOT) in between the criteria.\n",
    "\n",
    "- AND: &\n",
    "- OR: |\n",
    "- NOT: ~\n"
   ]
  },
  {
   "cell_type": "code",
   "execution_count": null,
   "metadata": {
    "id": "9fyuYL_fD7Lp"
   },
   "outputs": [],
   "source": [
    "#Filter by Kansas City Royals and salary of more than 1 million\n",
    "\n",
    "df[(df['Salary'] > 1000000) & (df['Team'] == 'Kansas City Royals')]"
   ]
  },
  {
   "cell_type": "markdown",
   "metadata": {
    "id": "F8dmFbQFP3AN"
   },
   "source": [
    "#### Creating a new dataframe from results\n",
    "\n",
    "Often, we'll want to save the results of a function into a new dataframe so we can do some more analysis on it. To do this, simply create a new dataframe name and assign it to the function."
   ]
  },
  {
   "cell_type": "code",
   "execution_count": null,
   "metadata": {
    "id": "B_h26VUjP2jm"
   },
   "outputs": [],
   "source": [
    "#new dataframe called \"royals\" and assign it to the filtered original dataframe\n",
    "royals = df[df['Team'] == 'Kansas City Royals']\n"
   ]
  },
  {
   "cell_type": "code",
   "execution_count": null,
   "metadata": {
    "id": "lvSXix_uQKGI"
   },
   "outputs": [],
   "source": [
    "royals.head()"
   ]
  },
  {
   "cell_type": "code",
   "execution_count": null,
   "metadata": {
    "id": "aCb1PlytQRpe"
   },
   "outputs": [],
   "source": [
    "royals.shape"
   ]
  },
  {
   "cell_type": "code",
   "execution_count": null,
   "metadata": {
    "id": "rViBYYHbKEXs"
   },
   "outputs": [],
   "source": [
    "# On your own: Find all of the players who make more than $20 million\n",
    "\n",
    "\n"
   ]
  }
 ],
 "metadata": {
  "colab": {
   "authorship_tag": "ABX9TyMoSUfgDCbn7g/YM3dnPtyJ",
   "provenance": []
  },
  "kernelspec": {
   "display_name": "Python 3 (ipykernel)",
   "language": "python",
   "name": "python3"
  },
  "language_info": {
   "codemirror_mode": {
    "name": "ipython",
    "version": 3
   },
   "file_extension": ".py",
   "mimetype": "text/x-python",
   "name": "python",
   "nbconvert_exporter": "python",
   "pygments_lexer": "ipython3",
   "version": "3.9.1"
  }
 },
 "nbformat": 4,
 "nbformat_minor": 1
}
