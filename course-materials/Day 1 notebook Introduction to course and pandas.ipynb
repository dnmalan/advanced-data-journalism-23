{
 "cells": [
  {
   "cell_type": "markdown",
   "id": "f7d5447b",
   "metadata": {},
   "source": [
    "# Day 1 notebook: Introduction to course and pandas\n",
    "\n",
    "Pandas is one of the Python libraries that data journalists use the most. This is because pandas has many capabilities in data gathering, cleaning and analysis. \n",
    "\n",
    "In this hands-on lesson we will:\n",
    "\n",
    "- Import the pandas library\n",
    "- Import data into the notebook\n",
    "- Do some basic analysis using pandas"
   ]
  },
  {
   "cell_type": "markdown",
   "id": "e440fb7d",
   "metadata": {},
   "source": [
    "## Installing and importing pandas\n",
    "\n",
    "If you need to install pandas, run the first code cell with ``!pip install pandas``. If you have already installed it, you can go to the second cell.\n"
   ]
  },
  {
   "cell_type": "code",
   "execution_count": null,
   "id": "76c0f8f7",
   "metadata": {},
   "outputs": [],
   "source": [
    "##Run this cell if you need to install pandas. \n",
    "##You should only have to run this once.\n",
    "\n",
    "!pip install pandas"
   ]
  },
  {
   "cell_type": "code",
   "execution_count": 2,
   "id": "4a8cd8f8",
   "metadata": {},
   "outputs": [],
   "source": [
    "##This command imports the pandas library into our notebook, and names it 'pd,' \n",
    "##which makes it shorter for us to write as we code.\n",
    "##You will need to import libraries as a first step in each notebook you use.\n",
    "\n",
    "import pandas as pd"
   ]
  },
  {
   "cell_type": "markdown",
   "id": "cb6ad7f8",
   "metadata": {},
   "source": [
    "## Importing a data file and making a dataframe\n",
    "\n",
    "The dataframe is the basic tabular format, and you must put your data into a dataframe to use the capabilities of the pandas library. \n",
    "\n",
    "We'll start with a small dataset to get the hang of it."
   ]
  },
  {
   "cell_type": "code",
   "execution_count": null,
   "id": "20b7f80b",
   "metadata": {},
   "outputs": [],
   "source": []
  },
  {
   "cell_type": "code",
   "execution_count": null,
   "id": "27f83dcd",
   "metadata": {},
   "outputs": [],
   "source": []
  }
 ],
 "metadata": {
  "kernelspec": {
   "display_name": "Python 3 (ipykernel)",
   "language": "python",
   "name": "python3"
  },
  "language_info": {
   "codemirror_mode": {
    "name": "ipython",
    "version": 3
   },
   "file_extension": ".py",
   "mimetype": "text/x-python",
   "name": "python",
   "nbconvert_exporter": "python",
   "pygments_lexer": "ipython3",
   "version": "3.9.1"
  }
 },
 "nbformat": 4,
 "nbformat_minor": 5
}
