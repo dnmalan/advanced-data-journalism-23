{
  "nbformat": 4,
  "nbformat_minor": 0,
  "metadata": {
    "colab": {
      "provenance": [],
      "authorship_tag": "ABX9TyN3zthn9V6wsJhavBZJUv9J",
      "include_colab_link": true
    },
    "kernelspec": {
      "name": "python3",
      "display_name": "Python 3"
    },
    "language_info": {
      "name": "python"
    }
  },
  "cells": [
    {
      "cell_type": "markdown",
      "metadata": {
        "id": "view-in-github",
        "colab_type": "text"
      },
      "source": [
        "<a href=\"https://colab.research.google.com/github/dnmalan/advanced-data-journalism-23/blob/main/2_More_with_Pandas.ipynb\" target=\"_parent\"><img src=\"https://colab.research.google.com/assets/colab-badge.svg\" alt=\"Open In Colab\"/></a>"
      ]
    },
    {
      "cell_type": "markdown",
      "source": [
        "# 2. More with Pandas\n",
        "\n"
      ],
      "metadata": {
        "id": "NybY-RBelXUB"
      }
    },
    {
      "cell_type": "markdown",
      "source": [
        "In this lesson, we will continue working with pandas oh our dataset of baseball player salaries, which includes columns for Name, Team, League, Position, and Salary. We will cover the following concepts and functions that are very useful in data analysis:\n",
        "- Rank\n",
        "- ISIN\n",
        "- query\n",
        "- groupby (with count, sum, and average)\n",
        "- merging the dataset with a different dataset (joining)\n",
        "\n"
      ],
      "metadata": {
        "id": "qgWpP4e8l2ve"
      }
    },
    {
      "cell_type": "markdown",
      "source": [
        "##2.1 Rank"
      ],
      "metadata": {
        "id": "jRzReY-CEsro"
      }
    },
    {
      "cell_type": "markdown",
      "source": [
        " Ranking allows us to assign a rank or position to each data point within a specified column based on its value. We'll use the rank() function in Pandas to achieve this.\n",
        "\n",
        " First, we'll import pandas and the dataset."
      ],
      "metadata": {
        "id": "syTTUzqyEDyX"
      }
    },
    {
      "cell_type": "code",
      "execution_count": null,
      "metadata": {
        "id": "4oVAk-qqlVch"
      },
      "outputs": [],
      "source": [
        "import pandas as pd\n",
        "\n",
        "# Import data from a CSV file\n",
        "df = pd.read_csv('https://raw.githubusercontent.com/dnmalan/advanced-data-journalism-23/main/data/baseball_players.csv')\n",
        "\n",
        "# Display the first few rows of the DataFrame\n",
        "df.head()\n"
      ]
    },
    {
      "cell_type": "markdown",
      "source": [
        "**Rank by salary**\n",
        "\n",
        "To rank the data based on a specific column, such as Salary, you can use the rank() function. By default, it ranks in ascending order (1 being the lowest value).\n",
        "\n",
        "We'll create a new column called \"Salarly_rank\" to store the ranked values.\n"
      ],
      "metadata": {
        "id": "PFev1oVSE1Jv"
      }
    },
    {
      "cell_type": "code",
      "source": [
        "# Rank the players by Salary in ascending order\n",
        "df['Salary_Rank'] = df['Salary'].rank()\n",
        "\n",
        "# Display the first few rows with the Salary ranks\n",
        "df.head()\n"
      ],
      "metadata": {
        "id": "jtR9B1pAE-TX"
      },
      "execution_count": null,
      "outputs": []
    },
    {
      "cell_type": "markdown",
      "source": [
        "**Rank in descending order**\n",
        "\n",
        "If you want to rank in descending order (1 being the highest value), you can use the ascending parameter."
      ],
      "metadata": {
        "id": "wjrpT5cWFJmJ"
      }
    },
    {
      "cell_type": "code",
      "source": [
        "# Rank the players by Salary in descending order\n",
        "df['Salary_Rank_Desc'] = df['Salary'].rank(ascending=False)\n",
        "\n",
        "# Display the first few rows with the descending Salary ranks\n",
        "df.head()\n"
      ],
      "metadata": {
        "id": "zb1Fnyg1Fa9J"
      },
      "execution_count": null,
      "outputs": []
    },
    {
      "cell_type": "markdown",
      "source": [
        "Handling ties\n",
        "\n",
        "When there are tied values, you can choose how to handle them using the method parameter. The default method is 'average,' which assigns the average rank to tied values. Other methods include 'min,' 'max,' and 'dense.'"
      ],
      "metadata": {
        "id": "Ct70twwtFfYA"
      }
    },
    {
      "cell_type": "code",
      "source": [
        "# Rank the players by Salary, using the 'min' method to handle ties\n",
        "df['Salary_Rank_Min'] = df['Salary'].rank(method='min')\n",
        "\n",
        "# Display the first few rows with the Salary ranks using the 'min' method\n",
        "df[['Name', 'Salary', 'Salary_Rank_Min']].head()"
      ],
      "metadata": {
        "id": "py-on8Y2Fqqq"
      },
      "execution_count": null,
      "outputs": []
    },
    {
      "cell_type": "markdown",
      "source": [
        "##2.2 ISIN\n",
        "\n",
        "The isin function allows us to filter rows based on whether a specific value is present in a column. THis allows us to write more powerful filters much more quickly than using the filter method we looked at in Lesson 1.3.\n",
        "\n",
        "As a reminder, here's what that method looks like:\n",
        "\n",
        "**df[df['Team'] == 'Kansas City Royals']**\n",
        "\n",
        "If you want to filter by multiple teams, you would use this syntax:\n",
        "\n",
        "**df[(condition1) | (condition2)]**\n",
        "\n",
        "Which looks like this:\n"
      ],
      "metadata": {
        "id": "DEZ7sUdWG3Kb"
      }
    },
    {
      "cell_type": "code",
      "source": [
        "   df[(df['Team'] == 'Kansas City Royals') | (df['Team'] == 'New York Yankees')]"
      ],
      "metadata": {
        "id": "EGemar-HH22v"
      },
      "execution_count": null,
      "outputs": []
    },
    {
      "cell_type": "markdown",
      "source": [
        "Now let's use ISIN to write this in a much more efficient way."
      ],
      "metadata": {
        "id": "RwOS769JKizX"
      }
    },
    {
      "cell_type": "code",
      "source": [
        " #filter for players on two teams using ISIN\n",
        "\n",
        " df[df['Team'].isin(['Kansas City Royals', 'New York Yankees'])]"
      ],
      "metadata": {
        "id": "aNYRfixSK2gq"
      },
      "execution_count": null,
      "outputs": []
    },
    {
      "cell_type": "markdown",
      "source": [
        "To save the filtered players, create a new dataframe."
      ],
      "metadata": {
        "id": "clIooEQ8Lp0M"
      }
    },
    {
      "cell_type": "code",
      "source": [
        "# create a df of the selected players and save it into a new dataframe\n",
        "\n",
        "selected_players =  df[df['Team'].isin(['Kansas City Royals', 'New York Yankees'])]\n",
        "\n",
        "# view new dataframe\n",
        "selected_players.head()"
      ],
      "metadata": {
        "id": "A4tjb20DKtqC"
      },
      "execution_count": null,
      "outputs": []
    },
    {
      "cell_type": "markdown",
      "source": [
        "You can also create a list of the values you want to filter for. This is especially helpful when you have many different values to search for and is a generally cleaner way to write code."
      ],
      "metadata": {
        "id": "dNpY3YbDMEXQ"
      }
    },
    {
      "cell_type": "code",
      "source": [
        "# create a list of selected teams\n",
        "selected_teams = ['New York Yankees', 'Boston Red Sox']\n",
        "\n",
        "# filter for selected teams and save into a new dataframe\n",
        "selected_players = df[df['Team'].isin(selected_teams)]\n",
        "\n",
        "# view new dataframe\n",
        "selected_players.head()"
      ],
      "metadata": {
        "id": "hm7tstZBKnMH"
      },
      "execution_count": null,
      "outputs": []
    },
    {
      "cell_type": "markdown",
      "source": [
        "##2.3 Group by\n",
        "\n",
        "The groupby function allows us to group data by one or more columns and then apply aggregation functions to the grouped data.\n",
        "\n",
        "First, let's group by the teams. Then, we'll use count, sum, and mean as examples.\n"
      ],
      "metadata": {
        "id": "vCSpaBf0WTXq"
      }
    },
    {
      "cell_type": "code",
      "source": [
        "# Group players by team\n",
        "# this creates an object, not a dataframe, so the printout is weird but lets us know this is working\n",
        "\n",
        "df.groupby('Team')"
      ],
      "metadata": {
        "id": "-0_r6hlKYSFX"
      },
      "execution_count": null,
      "outputs": []
    },
    {
      "cell_type": "code",
      "source": [
        "# now add an aggregation. let's start with count\n",
        "# this syntax will group by team, then count how many values are in every column\n",
        "\n",
        "df.groupby('Team').count()"
      ],
      "metadata": {
        "id": "tp-d7o16YfIv"
      },
      "execution_count": null,
      "outputs": []
    },
    {
      "cell_type": "markdown",
      "source": [
        "Using the agg() function allows us to aggregate by a certain column and also by multiple columns\n"
      ],
      "metadata": {
        "id": "br14TA5pZoUz"
      }
    },
    {
      "cell_type": "code",
      "source": [
        "df.groupby('Team').agg({'Salary': 'count'})"
      ],
      "metadata": {
        "id": "WHtQHfsNZs5E"
      },
      "execution_count": null,
      "outputs": []
    },
    {
      "cell_type": "code",
      "source": [
        "# Group players by team and calculate the count, sum, and average salary for each team, and store them into a new dataframe\n",
        "team_salary_stats = df.groupby('Team').agg({'Salary': ['count', 'sum', 'mean']}).reset_index()\n",
        "\n",
        "# Create better column names for the new dataframe\n",
        "team_salary_stats.columns = ['Team', 'Player_Count', 'Total_Salary', 'Average_Salary']\n",
        "\n",
        "#print entire table\n",
        "print(team_salary_stats)\n"
      ],
      "metadata": {
        "id": "qxA4NHG9Wr81"
      },
      "execution_count": null,
      "outputs": []
    },
    {
      "cell_type": "code",
      "source": [],
      "metadata": {
        "id": "LRMiWW4rZnoD"
      },
      "execution_count": null,
      "outputs": []
    },
    {
      "cell_type": "markdown",
      "source": [
        "##2.4 Query\n",
        "\n",
        "The query function allows us to filter rows using a more expressive syntax. We can also use it to compare values.\n",
        "\n",
        "Let's use it to filter for numbers above a certain threshold. (This is similar to filtering we did in lesson 1.3)\n",
        "\n",
        "First, we're going to import a new dataset of Olympics medals by country."
      ],
      "metadata": {
        "id": "KSXPkcanNO8c"
      }
    },
    {
      "cell_type": "code",
      "source": [
        "# Import data from a CSV file\n",
        "df_olympics = pd.read_csv('https://raw.githubusercontent.com/dnmalan/advanced-data-journalism-23/main/data/olympics_medals_country_wise.csv')\n",
        "\n",
        "# Display the first few rows of the DataFrame\n",
        "df_olympics.head()"
      ],
      "metadata": {
        "id": "APHnUUpTNyGb"
      },
      "execution_count": null,
      "outputs": []
    },
    {
      "cell_type": "markdown",
      "source": [
        "Let's get to know the new dataset a little bit."
      ],
      "metadata": {
        "id": "1dmM5LFCQDHe"
      }
    },
    {
      "cell_type": "code",
      "source": [
        "# how many rows and columns\n",
        "df_olympics.shape"
      ],
      "metadata": {
        "id": "xzRl0kPLP7A8"
      },
      "execution_count": null,
      "outputs": []
    },
    {
      "cell_type": "code",
      "source": [
        "# check data types\n",
        "\n",
        "df_olympics.dtypes"
      ],
      "metadata": {
        "id": "6uC1QG9MRd8Z"
      },
      "execution_count": null,
      "outputs": []
    },
    {
      "cell_type": "code",
      "source": [
        "# statistical overview of numerical columns\n",
        "\n",
        "df_olympics.describe()"
      ],
      "metadata": {
        "id": "2Qsz1cZ4QXkf"
      },
      "execution_count": null,
      "outputs": []
    },
    {
      "cell_type": "markdown",
      "source": [
        "Now let's find countries with more than 100 summer gold medals."
      ],
      "metadata": {
        "id": "AGcpnDt-VAUS"
      }
    },
    {
      "cell_type": "code",
      "source": [
        "# use query to find countries iwth more than 100 summer_gold\n",
        "\n",
        "high_summer_golds = df_olympics.query('summer_gold > 100')\n",
        "\n",
        "# preview results\n",
        "\n",
        "high_summer_golds.head()"
      ],
      "metadata": {
        "id": "W_roHa7FVIWm"
      },
      "execution_count": null,
      "outputs": []
    },
    {
      "cell_type": "code",
      "source": [
        "# how many countries have more than 100 summer gold medals?\n",
        "# this syntax of [0] with shape will show you only the number of rows and not the number of columns\n",
        "\n",
        "high_summer_golds.shape[0]"
      ],
      "metadata": {
        "id": "eJhjf_jqVgt1"
      },
      "execution_count": null,
      "outputs": []
    },
    {
      "cell_type": "markdown",
      "source": [
        "Now the really cool part! We can use query to filter the dataset based on a comparison. For example, we can search for countries who have more winter gold medals than summer gold medals.\n",
        "\n"
      ],
      "metadata": {
        "id": "SqWrZB8FV6KP"
      }
    },
    {
      "cell_type": "code",
      "source": [
        "df_olympics.query('winter_gold > summer_gold')"
      ],
      "metadata": {
        "id": "VJi5O5zEZEwK"
      },
      "execution_count": null,
      "outputs": []
    },
    {
      "cell_type": "markdown",
      "source": [
        "##2.5 Merging datasets\n",
        "\n",
        "The merge function in Pandas is a powerful and versatile tool for combining and joining two or more DataFrames based on common columns or indices. It is similar to the SQL JOIN operation and allows you to merge data from different sources into a single DataFrame.\n",
        "\n",
        "Here's the basic syntax of the merge function:\n",
        "\n",
        "**merged_df = df1.merge(df2, on='column')**\n",
        "\n",
        "Using the olympic medals dataset, let's say we have one dataset of all the medal counts, but with only the country code. Then we have another dataset showing only the country code and corresponding country."
      ],
      "metadata": {
        "id": "LIuUeAE2bgRP"
      }
    },
    {
      "cell_type": "code",
      "source": [
        "# import two datasets and look at the first few rows\n",
        "\n",
        "# Import country medals from a CSV file\n",
        "# this will be our \"main\" dataset\n",
        "country_medals = pd.read_csv('https://raw.githubusercontent.com/dnmalan/advanced-data-journalism-23/main/data/country_medals.csv')\n",
        "\n",
        "country_medals.head()"
      ],
      "metadata": {
        "id": "emz1enI6cRF6"
      },
      "execution_count": null,
      "outputs": []
    },
    {
      "cell_type": "code",
      "source": [
        "# import country codes from a CSV file\n",
        "# this will be our \"lookup\" dataset\n",
        "country_codes = pd.read_csv('https://raw.githubusercontent.com/dnmalan/advanced-data-journalism-23/main/data/country_codes.csv')\n",
        "\n",
        "country_codes.head()"
      ],
      "metadata": {
        "id": "upe5TZ_vcRf8"
      },
      "execution_count": null,
      "outputs": []
    },
    {
      "cell_type": "markdown",
      "source": [
        "With our datasets imported, we can now merge them in one quick line of code. Each country code will match up, showing the complete rows from both datasets with the country name, code, and medal counts."
      ],
      "metadata": {
        "id": "wlADia7Sd6eS"
      }
    },
    {
      "cell_type": "code",
      "source": [
        "merged_data = country_medals.merge(country_codes, on='ioc_code ')\n",
        "\n",
        "merged_data.head()"
      ],
      "metadata": {
        "id": "sFpRFlhgeGy5"
      },
      "execution_count": null,
      "outputs": []
    },
    {
      "cell_type": "markdown",
      "source": [
        "###More on combining data\n",
        "\n",
        "This was a very basic merge (aka, join). Joins can really be much more complicated, depending on your data and goals. There are also many problems that can happen during a join, and also more functions that combine data in similar ways to merging!\n",
        "\n",
        "For more on joining using pandas, see this great explanation of using merge(), join(), and concatenate() on [RealPython.com](https://realpython.com/pandas-merge-join-and-concat/)."
      ],
      "metadata": {
        "id": "y2MOdLbGfz9v"
      }
    }
  ]
}